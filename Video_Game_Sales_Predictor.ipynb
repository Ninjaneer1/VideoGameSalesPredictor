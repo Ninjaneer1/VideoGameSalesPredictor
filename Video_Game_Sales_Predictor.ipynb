{
 "cells": [
  {
   "cell_type": "code",
   "execution_count": 2,
   "metadata": {},
   "outputs": [
    {
     "data": {
      "application/javascript": [
       "\n",
       "            setTimeout(function() {\n",
       "                var nbb_cell_id = 2;\n",
       "                var nbb_unformatted_code = \"%reload_ext nb_black\";\n",
       "                var nbb_formatted_code = \"%reload_ext nb_black\";\n",
       "                var nbb_cells = Jupyter.notebook.get_cells();\n",
       "                for (var i = 0; i < nbb_cells.length; ++i) {\n",
       "                    if (nbb_cells[i].input_prompt_number == nbb_cell_id) {\n",
       "                        if (nbb_cells[i].get_text() == nbb_unformatted_code) {\n",
       "                             nbb_cells[i].set_text(nbb_formatted_code);\n",
       "                        }\n",
       "                        break;\n",
       "                    }\n",
       "                }\n",
       "            }, 500);\n",
       "            "
      ],
      "text/plain": [
       "<IPython.core.display.Javascript object>"
      ]
     },
     "metadata": {},
     "output_type": "display_data"
    }
   ],
   "source": [
    "%reload_ext nb_black"
   ]
  },
  {
   "cell_type": "code",
   "execution_count": 3,
   "metadata": {},
   "outputs": [
    {
     "data": {
      "application/javascript": [
       "\n",
       "            setTimeout(function() {\n",
       "                var nbb_cell_id = 3;\n",
       "                var nbb_unformatted_code = \"import warnings\\n\\nimport pandas as pd\\nimport numpy as np\\n\\nfrom sklearn.model_selection import train_test_split, GridSearchCV, cross_val_score\\nfrom sklearn.preprocessing import OneHotEncoder, StandardScaler\\nfrom sklearn.compose import ColumnTransformer\\nfrom sklearn.pipeline import Pipeline\\n\\nfrom category_encoders import LeaveOneOutEncoder\\n\\n# Import supervised model types here:\\nfrom sklearn.linear_model import LinearRegression, Lasso, ElasticNet\\nfrom sklearn.neighbors import KNeighborsRegressor\\nfrom xgboost import XGBRegressor\\n\\nimport statsmodels.api as sm\\nfrom statsmodels.stats.outliers_influence import variance_inflation_factor\\n\\nimport seaborn as sns\\nimport matplotlib.pyplot as plt\\n\\n%matplotlib inline\\n# define where to find the data\\npath = \\\"data/Video_Games_Sales_as_at_22_Dec_2016.csv\\\"\";\n",
       "                var nbb_formatted_code = \"import warnings\\n\\nimport pandas as pd\\nimport numpy as np\\n\\nfrom sklearn.model_selection import train_test_split, GridSearchCV, cross_val_score\\nfrom sklearn.preprocessing import OneHotEncoder, StandardScaler\\nfrom sklearn.compose import ColumnTransformer\\nfrom sklearn.pipeline import Pipeline\\n\\nfrom category_encoders import LeaveOneOutEncoder\\n\\n# Import supervised model types here:\\nfrom sklearn.linear_model import LinearRegression, Lasso, ElasticNet\\nfrom sklearn.neighbors import KNeighborsRegressor\\nfrom xgboost import XGBRegressor\\n\\nimport statsmodels.api as sm\\nfrom statsmodels.stats.outliers_influence import variance_inflation_factor\\n\\nimport seaborn as sns\\nimport matplotlib.pyplot as plt\\n\\n%matplotlib inline\\n# define where to find the data\\npath = \\\"data/Video_Games_Sales_as_at_22_Dec_2016.csv\\\"\";\n",
       "                var nbb_cells = Jupyter.notebook.get_cells();\n",
       "                for (var i = 0; i < nbb_cells.length; ++i) {\n",
       "                    if (nbb_cells[i].input_prompt_number == nbb_cell_id) {\n",
       "                        if (nbb_cells[i].get_text() == nbb_unformatted_code) {\n",
       "                             nbb_cells[i].set_text(nbb_formatted_code);\n",
       "                        }\n",
       "                        break;\n",
       "                    }\n",
       "                }\n",
       "            }, 500);\n",
       "            "
      ],
      "text/plain": [
       "<IPython.core.display.Javascript object>"
      ]
     },
     "metadata": {},
     "output_type": "display_data"
    }
   ],
   "source": [
    "import warnings\n",
    "\n",
    "import pandas as pd\n",
    "import numpy as np\n",
    "\n",
    "from sklearn.model_selection import train_test_split, GridSearchCV, cross_val_score\n",
    "from sklearn.preprocessing import OneHotEncoder, StandardScaler\n",
    "from sklearn.compose import ColumnTransformer\n",
    "from sklearn.pipeline import Pipeline\n",
    "\n",
    "from category_encoders import LeaveOneOutEncoder\n",
    "\n",
    "# Import supervised model types here:\n",
    "from sklearn.linear_model import LinearRegression, Lasso, ElasticNet\n",
    "from sklearn.neighbors import KNeighborsRegressor\n",
    "from xgboost import XGBRegressor\n",
    "\n",
    "import statsmodels.api as sm\n",
    "from statsmodels.stats.outliers_influence import variance_inflation_factor\n",
    "\n",
    "import seaborn as sns\n",
    "import matplotlib.pyplot as plt\n",
    "\n",
    "%matplotlib inline\n",
    "# define where to find the data\n",
    "path = \"data/Video_Games_Sales_as_at_22_Dec_2016.csv\""
   ]
  },
  {
   "cell_type": "markdown",
   "metadata": {},
   "source": [
    "## Data From: Kaggle:\n",
    "## Video Game Sales and Ratings\n",
    "### Video game sales data from VGChartz with corresponding ratings from Metacritic\n",
    "### Kendall Gillies,  Rush Kirubi\n",
    "\n",
    "This data set includes a 0-100 Critic Score, 0-10 User Score, and Critic and User counts on top of data describing the video games. Other descriptors include the Publisher, Developer, Name, Platform, and Year of Release, and Sales data for North America, Europe, Japan, 'Other', and total of these labeled Global Sales. In this project Global sales will be the target variable that will be predicted using the other columns of data. Without any further investigation, based on the description of the data, I'm going to guess that a boosted tree regression model is going to be the top performer. "
   ]
  },
  {
   "cell_type": "code",
   "execution_count": 4,
   "metadata": {
    "scrolled": true
   },
   "outputs": [
    {
     "data": {
      "text/html": [
       "<div>\n",
       "<style scoped>\n",
       "    .dataframe tbody tr th:only-of-type {\n",
       "        vertical-align: middle;\n",
       "    }\n",
       "\n",
       "    .dataframe tbody tr th {\n",
       "        vertical-align: top;\n",
       "    }\n",
       "\n",
       "    .dataframe thead th {\n",
       "        text-align: right;\n",
       "    }\n",
       "</style>\n",
       "<table border=\"1\" class=\"dataframe\">\n",
       "  <thead>\n",
       "    <tr style=\"text-align: right;\">\n",
       "      <th></th>\n",
       "      <th>Name</th>\n",
       "      <th>Platform</th>\n",
       "      <th>Year_of_Release</th>\n",
       "      <th>Genre</th>\n",
       "      <th>Publisher</th>\n",
       "      <th>NA_Sales</th>\n",
       "      <th>EU_Sales</th>\n",
       "      <th>JP_Sales</th>\n",
       "      <th>Other_Sales</th>\n",
       "      <th>Global_Sales</th>\n",
       "      <th>Critic_Score</th>\n",
       "      <th>Critic_Count</th>\n",
       "      <th>User_Score</th>\n",
       "      <th>User_Count</th>\n",
       "      <th>Developer</th>\n",
       "      <th>Rating</th>\n",
       "    </tr>\n",
       "  </thead>\n",
       "  <tbody>\n",
       "    <tr>\n",
       "      <th>0</th>\n",
       "      <td>Wii Sports</td>\n",
       "      <td>Wii</td>\n",
       "      <td>2006.0</td>\n",
       "      <td>Sports</td>\n",
       "      <td>Nintendo</td>\n",
       "      <td>41.36</td>\n",
       "      <td>28.96</td>\n",
       "      <td>3.77</td>\n",
       "      <td>8.45</td>\n",
       "      <td>82.53</td>\n",
       "      <td>76.0</td>\n",
       "      <td>51.0</td>\n",
       "      <td>8.0</td>\n",
       "      <td>322.0</td>\n",
       "      <td>Nintendo</td>\n",
       "      <td>E</td>\n",
       "    </tr>\n",
       "    <tr>\n",
       "      <th>1</th>\n",
       "      <td>Super Mario Bros.</td>\n",
       "      <td>NES</td>\n",
       "      <td>1985.0</td>\n",
       "      <td>Platform</td>\n",
       "      <td>Nintendo</td>\n",
       "      <td>29.08</td>\n",
       "      <td>3.58</td>\n",
       "      <td>6.81</td>\n",
       "      <td>0.77</td>\n",
       "      <td>40.24</td>\n",
       "      <td>NaN</td>\n",
       "      <td>NaN</td>\n",
       "      <td>NaN</td>\n",
       "      <td>NaN</td>\n",
       "      <td>NaN</td>\n",
       "      <td>NaN</td>\n",
       "    </tr>\n",
       "    <tr>\n",
       "      <th>2</th>\n",
       "      <td>Mario Kart Wii</td>\n",
       "      <td>Wii</td>\n",
       "      <td>2008.0</td>\n",
       "      <td>Racing</td>\n",
       "      <td>Nintendo</td>\n",
       "      <td>15.68</td>\n",
       "      <td>12.76</td>\n",
       "      <td>3.79</td>\n",
       "      <td>3.29</td>\n",
       "      <td>35.52</td>\n",
       "      <td>82.0</td>\n",
       "      <td>73.0</td>\n",
       "      <td>8.3</td>\n",
       "      <td>709.0</td>\n",
       "      <td>Nintendo</td>\n",
       "      <td>E</td>\n",
       "    </tr>\n",
       "    <tr>\n",
       "      <th>3</th>\n",
       "      <td>Wii Sports Resort</td>\n",
       "      <td>Wii</td>\n",
       "      <td>2009.0</td>\n",
       "      <td>Sports</td>\n",
       "      <td>Nintendo</td>\n",
       "      <td>15.61</td>\n",
       "      <td>10.93</td>\n",
       "      <td>3.28</td>\n",
       "      <td>2.95</td>\n",
       "      <td>32.77</td>\n",
       "      <td>80.0</td>\n",
       "      <td>73.0</td>\n",
       "      <td>8.0</td>\n",
       "      <td>192.0</td>\n",
       "      <td>Nintendo</td>\n",
       "      <td>E</td>\n",
       "    </tr>\n",
       "    <tr>\n",
       "      <th>4</th>\n",
       "      <td>Pokemon Red/Pokemon Blue</td>\n",
       "      <td>GB</td>\n",
       "      <td>1996.0</td>\n",
       "      <td>Role-Playing</td>\n",
       "      <td>Nintendo</td>\n",
       "      <td>11.27</td>\n",
       "      <td>8.89</td>\n",
       "      <td>10.22</td>\n",
       "      <td>1.00</td>\n",
       "      <td>31.37</td>\n",
       "      <td>NaN</td>\n",
       "      <td>NaN</td>\n",
       "      <td>NaN</td>\n",
       "      <td>NaN</td>\n",
       "      <td>NaN</td>\n",
       "      <td>NaN</td>\n",
       "    </tr>\n",
       "  </tbody>\n",
       "</table>\n",
       "</div>"
      ],
      "text/plain": [
       "                       Name Platform  Year_of_Release         Genre Publisher  \\\n",
       "0                Wii Sports      Wii           2006.0        Sports  Nintendo   \n",
       "1         Super Mario Bros.      NES           1985.0      Platform  Nintendo   \n",
       "2            Mario Kart Wii      Wii           2008.0        Racing  Nintendo   \n",
       "3         Wii Sports Resort      Wii           2009.0        Sports  Nintendo   \n",
       "4  Pokemon Red/Pokemon Blue       GB           1996.0  Role-Playing  Nintendo   \n",
       "\n",
       "   NA_Sales  EU_Sales  JP_Sales  Other_Sales  Global_Sales  Critic_Score  \\\n",
       "0     41.36     28.96      3.77         8.45         82.53          76.0   \n",
       "1     29.08      3.58      6.81         0.77         40.24           NaN   \n",
       "2     15.68     12.76      3.79         3.29         35.52          82.0   \n",
       "3     15.61     10.93      3.28         2.95         32.77          80.0   \n",
       "4     11.27      8.89     10.22         1.00         31.37           NaN   \n",
       "\n",
       "   Critic_Count  User_Score  User_Count Developer Rating  \n",
       "0          51.0         8.0       322.0  Nintendo      E  \n",
       "1           NaN         NaN         NaN       NaN    NaN  \n",
       "2          73.0         8.3       709.0  Nintendo      E  \n",
       "3          73.0         8.0       192.0  Nintendo      E  \n",
       "4           NaN         NaN         NaN       NaN    NaN  "
      ]
     },
     "execution_count": 4,
     "metadata": {},
     "output_type": "execute_result"
    },
    {
     "data": {
      "application/javascript": [
       "\n",
       "            setTimeout(function() {\n",
       "                var nbb_cell_id = 4;\n",
       "                var nbb_unformatted_code = \"df = pd.read_csv(path)  # move data into a pandas dataframe\\ndf.head()  # preview the top five rows\";\n",
       "                var nbb_formatted_code = \"df = pd.read_csv(path)  # move data into a pandas dataframe\\ndf.head()  # preview the top five rows\";\n",
       "                var nbb_cells = Jupyter.notebook.get_cells();\n",
       "                for (var i = 0; i < nbb_cells.length; ++i) {\n",
       "                    if (nbb_cells[i].input_prompt_number == nbb_cell_id) {\n",
       "                        if (nbb_cells[i].get_text() == nbb_unformatted_code) {\n",
       "                             nbb_cells[i].set_text(nbb_formatted_code);\n",
       "                        }\n",
       "                        break;\n",
       "                    }\n",
       "                }\n",
       "            }, 500);\n",
       "            "
      ],
      "text/plain": [
       "<IPython.core.display.Javascript object>"
      ]
     },
     "metadata": {},
     "output_type": "display_data"
    }
   ],
   "source": [
    "df = pd.read_csv(path)  # move data into a pandas dataframe\n",
    "df.head()  # preview the top five rows"
   ]
  },
  {
   "cell_type": "markdown",
   "metadata": {},
   "source": [
    "* Observe percentage of missing data per column.\n",
    "* Drop rows with missing values."
   ]
  },
  {
   "cell_type": "code",
   "execution_count": 7,
   "metadata": {},
   "outputs": [
    {
     "data": {
      "text/plain": [
       "User_Count         0.546025\n",
       "User_Score         0.546025\n",
       "Critic_Count       0.513308\n",
       "Critic_Score       0.513308\n",
       "Rating             0.404869\n",
       "Developer          0.396136\n",
       "Year_of_Release    0.016089\n",
       "Publisher          0.003230\n",
       "Genre              0.000120\n",
       "Name               0.000120\n",
       "Global_Sales       0.000000\n",
       "Other_Sales        0.000000\n",
       "JP_Sales           0.000000\n",
       "EU_Sales           0.000000\n",
       "NA_Sales           0.000000\n",
       "Platform           0.000000\n",
       "dtype: float64"
      ]
     },
     "execution_count": 7,
     "metadata": {},
     "output_type": "execute_result"
    },
    {
     "data": {
      "application/javascript": [
       "\n",
       "            setTimeout(function() {\n",
       "                var nbb_cell_id = 7;\n",
       "                var nbb_unformatted_code = \"df.isna().mean().sort_values(ascending=False)\";\n",
       "                var nbb_formatted_code = \"df.isna().mean().sort_values(ascending=False)\";\n",
       "                var nbb_cells = Jupyter.notebook.get_cells();\n",
       "                for (var i = 0; i < nbb_cells.length; ++i) {\n",
       "                    if (nbb_cells[i].input_prompt_number == nbb_cell_id) {\n",
       "                        if (nbb_cells[i].get_text() == nbb_unformatted_code) {\n",
       "                             nbb_cells[i].set_text(nbb_formatted_code);\n",
       "                        }\n",
       "                        break;\n",
       "                    }\n",
       "                }\n",
       "            }, 500);\n",
       "            "
      ],
      "text/plain": [
       "<IPython.core.display.Javascript object>"
      ]
     },
     "metadata": {},
     "output_type": "display_data"
    }
   ],
   "source": [
    "df.isna().mean().sort_values(ascending=False)"
   ]
  },
  {
   "cell_type": "markdown",
   "metadata": {},
   "source": [
    "Since only data entries with accompanying critic and user scores, will be used in the model the rest of data will be dropped"
   ]
  },
  {
   "cell_type": "code",
   "execution_count": 8,
   "metadata": {},
   "outputs": [
    {
     "data": {
      "application/javascript": [
       "\n",
       "            setTimeout(function() {\n",
       "                var nbb_cell_id = 8;\n",
       "                var nbb_unformatted_code = \"df = df.dropna(axis=0)\";\n",
       "                var nbb_formatted_code = \"df = df.dropna(axis=0)\";\n",
       "                var nbb_cells = Jupyter.notebook.get_cells();\n",
       "                for (var i = 0; i < nbb_cells.length; ++i) {\n",
       "                    if (nbb_cells[i].input_prompt_number == nbb_cell_id) {\n",
       "                        if (nbb_cells[i].get_text() == nbb_unformatted_code) {\n",
       "                             nbb_cells[i].set_text(nbb_formatted_code);\n",
       "                        }\n",
       "                        break;\n",
       "                    }\n",
       "                }\n",
       "            }, 500);\n",
       "            "
      ],
      "text/plain": [
       "<IPython.core.display.Javascript object>"
      ]
     },
     "metadata": {},
     "output_type": "display_data"
    }
   ],
   "source": [
    "df = df.dropna(axis=0)"
   ]
  },
  {
   "cell_type": "code",
   "execution_count": 9,
   "metadata": {},
   "outputs": [
    {
     "data": {
      "application/javascript": [
       "\n",
       "            setTimeout(function() {\n",
       "                var nbb_cell_id = 9;\n",
       "                var nbb_unformatted_code = \"df = df.astype({\\\"Year_of_Release\\\": \\\"int64\\\"})\";\n",
       "                var nbb_formatted_code = \"df = df.astype({\\\"Year_of_Release\\\": \\\"int64\\\"})\";\n",
       "                var nbb_cells = Jupyter.notebook.get_cells();\n",
       "                for (var i = 0; i < nbb_cells.length; ++i) {\n",
       "                    if (nbb_cells[i].input_prompt_number == nbb_cell_id) {\n",
       "                        if (nbb_cells[i].get_text() == nbb_unformatted_code) {\n",
       "                             nbb_cells[i].set_text(nbb_formatted_code);\n",
       "                        }\n",
       "                        break;\n",
       "                    }\n",
       "                }\n",
       "            }, 500);\n",
       "            "
      ],
      "text/plain": [
       "<IPython.core.display.Javascript object>"
      ]
     },
     "metadata": {},
     "output_type": "display_data"
    }
   ],
   "source": [
    "df = df.astype({\"Year_of_Release\": \"int64\"})"
   ]
  },
  {
   "cell_type": "markdown",
   "metadata": {},
   "source": [
    "* Splitting the data to observe differences in predicting \"Global_Sales\" vs \"NA_Sales\". make smaller dataframe for pairplot.\n",
    "* Models were tested on NA_sales and Global_Sales to see if there is a difference.\n",
    "* Log plus 1 was used to improve the skewedness of target data. Manual cross-validation was done to proof-out better performance"
   ]
  },
  {
   "cell_type": "code",
   "execution_count": 10,
   "metadata": {},
   "outputs": [
    {
     "data": {
      "application/javascript": [
       "\n",
       "            setTimeout(function() {\n",
       "                var nbb_cell_id = 10;\n",
       "                var nbb_unformatted_code = \"df = df.assign(log_NA_Sales=np.log1p(df.NA_Sales))\\ndf = df.assign(log_Global_Sales=np.log1p(df.Global_Sales))\";\n",
       "                var nbb_formatted_code = \"df = df.assign(log_NA_Sales=np.log1p(df.NA_Sales))\\ndf = df.assign(log_Global_Sales=np.log1p(df.Global_Sales))\";\n",
       "                var nbb_cells = Jupyter.notebook.get_cells();\n",
       "                for (var i = 0; i < nbb_cells.length; ++i) {\n",
       "                    if (nbb_cells[i].input_prompt_number == nbb_cell_id) {\n",
       "                        if (nbb_cells[i].get_text() == nbb_unformatted_code) {\n",
       "                             nbb_cells[i].set_text(nbb_formatted_code);\n",
       "                        }\n",
       "                        break;\n",
       "                    }\n",
       "                }\n",
       "            }, 500);\n",
       "            "
      ],
      "text/plain": [
       "<IPython.core.display.Javascript object>"
      ]
     },
     "metadata": {},
     "output_type": "display_data"
    }
   ],
   "source": [
    "df = df.assign(log_NA_Sales=np.log1p(df.NA_Sales))\n",
    "df = df.assign(log_Global_Sales=np.log1p(df.Global_Sales))"
   ]
  },
  {
   "cell_type": "markdown",
   "metadata": {},
   "source": [
    "* Feature engineering. \n",
    "    * Seeing how weighing the critic and user scores by their counts will act on the model \n",
    "    * Manual cross-validation was done to prove where these features are more useful"
   ]
  },
  {
   "cell_type": "code",
   "execution_count": 11,
   "metadata": {},
   "outputs": [
    {
     "data": {
      "application/javascript": [
       "\n",
       "            setTimeout(function() {\n",
       "                var nbb_cell_id = 11;\n",
       "                var nbb_unformatted_code = \"df[\\\"Critic_Combo\\\"] = df[\\\"Critic_Count\\\"] * df[\\\"Critic_Score\\\"]\\ndf[\\\"User_Combo\\\"] = df[\\\"User_Count\\\"] * df[\\\"User_Score\\\"]\";\n",
       "                var nbb_formatted_code = \"df[\\\"Critic_Combo\\\"] = df[\\\"Critic_Count\\\"] * df[\\\"Critic_Score\\\"]\\ndf[\\\"User_Combo\\\"] = df[\\\"User_Count\\\"] * df[\\\"User_Score\\\"]\";\n",
       "                var nbb_cells = Jupyter.notebook.get_cells();\n",
       "                for (var i = 0; i < nbb_cells.length; ++i) {\n",
       "                    if (nbb_cells[i].input_prompt_number == nbb_cell_id) {\n",
       "                        if (nbb_cells[i].get_text() == nbb_unformatted_code) {\n",
       "                             nbb_cells[i].set_text(nbb_formatted_code);\n",
       "                        }\n",
       "                        break;\n",
       "                    }\n",
       "                }\n",
       "            }, 500);\n",
       "            "
      ],
      "text/plain": [
       "<IPython.core.display.Javascript object>"
      ]
     },
     "metadata": {},
     "output_type": "display_data"
    }
   ],
   "source": [
    "df[\"Critic_Combo\"] = df[\"Critic_Count\"] * df[\"Critic_Score\"]\n",
    "df[\"User_Combo\"] = df[\"User_Count\"] * df[\"User_Score\"]"
   ]
  },
  {
   "cell_type": "markdown",
   "metadata": {},
   "source": [
    "* Dropping obvious colinearity variables."
   ]
  },
  {
   "cell_type": "code",
   "execution_count": 12,
   "metadata": {},
   "outputs": [
    {
     "data": {
      "application/javascript": [
       "\n",
       "            setTimeout(function() {\n",
       "                var nbb_cell_id = 12;\n",
       "                var nbb_unformatted_code = \"df_NA = df.drop(\\n    columns=[\\\"log_Global_Sales\\\", \\\"Global_Sales\\\", \\\"EU_Sales\\\", \\\"JP_Sales\\\", \\\"Other_Sales\\\"]\\n)\\ndf_Global = df.drop(\\n    columns=[\\\"log_NA_Sales\\\", \\\"NA_Sales\\\", \\\"EU_Sales\\\", \\\"JP_Sales\\\", \\\"Other_Sales\\\"]\\n)\";\n",
       "                var nbb_formatted_code = \"df_NA = df.drop(\\n    columns=[\\\"log_Global_Sales\\\", \\\"Global_Sales\\\", \\\"EU_Sales\\\", \\\"JP_Sales\\\", \\\"Other_Sales\\\"]\\n)\\ndf_Global = df.drop(\\n    columns=[\\\"log_NA_Sales\\\", \\\"NA_Sales\\\", \\\"EU_Sales\\\", \\\"JP_Sales\\\", \\\"Other_Sales\\\"]\\n)\";\n",
       "                var nbb_cells = Jupyter.notebook.get_cells();\n",
       "                for (var i = 0; i < nbb_cells.length; ++i) {\n",
       "                    if (nbb_cells[i].input_prompt_number == nbb_cell_id) {\n",
       "                        if (nbb_cells[i].get_text() == nbb_unformatted_code) {\n",
       "                             nbb_cells[i].set_text(nbb_formatted_code);\n",
       "                        }\n",
       "                        break;\n",
       "                    }\n",
       "                }\n",
       "            }, 500);\n",
       "            "
      ],
      "text/plain": [
       "<IPython.core.display.Javascript object>"
      ]
     },
     "metadata": {},
     "output_type": "display_data"
    }
   ],
   "source": [
    "df_NA = df.drop(\n",
    "    columns=[\"log_Global_Sales\", \"Global_Sales\", \"EU_Sales\", \"JP_Sales\", \"Other_Sales\"]\n",
    ")\n",
    "df_Global = df.drop(\n",
    "    columns=[\"log_NA_Sales\", \"NA_Sales\", \"EU_Sales\", \"JP_Sales\", \"Other_Sales\"]\n",
    ")"
   ]
  },
  {
   "cell_type": "markdown",
   "metadata": {},
   "source": [
    "Seperating numerical and categorical data"
   ]
  },
  {
   "cell_type": "code",
   "execution_count": 13,
   "metadata": {},
   "outputs": [
    {
     "data": {
      "application/javascript": [
       "\n",
       "            setTimeout(function() {\n",
       "                var nbb_cell_id = 13;\n",
       "                var nbb_unformatted_code = \"df_NA_num = df_NA.select_dtypes(include=[\\\"float64\\\", \\\"int64\\\"])\\ndf_Global_num = df_Global.select_dtypes(include=[\\\"float64\\\", \\\"int64\\\"])\";\n",
       "                var nbb_formatted_code = \"df_NA_num = df_NA.select_dtypes(include=[\\\"float64\\\", \\\"int64\\\"])\\ndf_Global_num = df_Global.select_dtypes(include=[\\\"float64\\\", \\\"int64\\\"])\";\n",
       "                var nbb_cells = Jupyter.notebook.get_cells();\n",
       "                for (var i = 0; i < nbb_cells.length; ++i) {\n",
       "                    if (nbb_cells[i].input_prompt_number == nbb_cell_id) {\n",
       "                        if (nbb_cells[i].get_text() == nbb_unformatted_code) {\n",
       "                             nbb_cells[i].set_text(nbb_formatted_code);\n",
       "                        }\n",
       "                        break;\n",
       "                    }\n",
       "                }\n",
       "            }, 500);\n",
       "            "
      ],
      "text/plain": [
       "<IPython.core.display.Javascript object>"
      ]
     },
     "metadata": {},
     "output_type": "display_data"
    }
   ],
   "source": [
    "df_NA_num = df_NA.select_dtypes(include=[\"float64\", \"int64\"])\n",
    "df_Global_num = df_Global.select_dtypes(include=[\"float64\", \"int64\"])"
   ]
  },
  {
   "cell_type": "code",
   "execution_count": 12,
   "metadata": {
    "scrolled": true
   },
   "outputs": [
    {
     "data": {
      "application/javascript": [
       "\n",
       "            setTimeout(function() {\n",
       "                var nbb_cell_id = 12;\n",
       "                var nbb_unformatted_code = \"# sns.pairplot(data=df_NA)\\n# plt.show()\";\n",
       "                var nbb_formatted_code = \"# sns.pairplot(data=df_NA)\\n# plt.show()\";\n",
       "                var nbb_cells = Jupyter.notebook.get_cells();\n",
       "                for (var i = 0; i < nbb_cells.length; ++i) {\n",
       "                    if (nbb_cells[i].input_prompt_number == nbb_cell_id) {\n",
       "                        if (nbb_cells[i].get_text() == nbb_unformatted_code) {\n",
       "                             nbb_cells[i].set_text(nbb_formatted_code);\n",
       "                        }\n",
       "                        break;\n",
       "                    }\n",
       "                }\n",
       "            }, 500);\n",
       "            "
      ],
      "text/plain": [
       "<IPython.core.display.Javascript object>"
      ]
     },
     "metadata": {},
     "output_type": "display_data"
    }
   ],
   "source": [
    "# sns.pairplot(data=df_NA)\n",
    "# plt.show()"
   ]
  },
  {
   "cell_type": "code",
   "execution_count": 13,
   "metadata": {},
   "outputs": [
    {
     "data": {
      "application/javascript": [
       "\n",
       "            setTimeout(function() {\n",
       "                var nbb_cell_id = 13;\n",
       "                var nbb_unformatted_code = \"# sns.pairplot(data=df_Global)\\n# plt.show()\";\n",
       "                var nbb_formatted_code = \"# sns.pairplot(data=df_Global)\\n# plt.show()\";\n",
       "                var nbb_cells = Jupyter.notebook.get_cells();\n",
       "                for (var i = 0; i < nbb_cells.length; ++i) {\n",
       "                    if (nbb_cells[i].input_prompt_number == nbb_cell_id) {\n",
       "                        if (nbb_cells[i].get_text() == nbb_unformatted_code) {\n",
       "                             nbb_cells[i].set_text(nbb_formatted_code);\n",
       "                        }\n",
       "                        break;\n",
       "                    }\n",
       "                }\n",
       "            }, 500);\n",
       "            "
      ],
      "text/plain": [
       "<IPython.core.display.Javascript object>"
      ]
     },
     "metadata": {},
     "output_type": "display_data"
    }
   ],
   "source": [
    "# sns.pairplot(data=df_Global)\n",
    "# plt.show()"
   ]
  },
  {
   "cell_type": "markdown",
   "metadata": {},
   "source": [
    "Correlations on the log values are a little easier to visualize now."
   ]
  },
  {
   "cell_type": "code",
   "execution_count": 14,
   "metadata": {
    "scrolled": true
   },
   "outputs": [
    {
     "data": {
      "text/plain": [
       "Index(['Year_of_Release', 'NA_Sales', 'Critic_Score', 'Critic_Count',\n",
       "       'User_Score', 'User_Count', 'log_NA_Sales', 'Critic_Combo',\n",
       "       'User_Combo'],\n",
       "      dtype='object')"
      ]
     },
     "execution_count": 14,
     "metadata": {},
     "output_type": "execute_result"
    },
    {
     "data": {
      "application/javascript": [
       "\n",
       "            setTimeout(function() {\n",
       "                var nbb_cell_id = 14;\n",
       "                var nbb_unformatted_code = \"df_NA_num.columns\";\n",
       "                var nbb_formatted_code = \"df_NA_num.columns\";\n",
       "                var nbb_cells = Jupyter.notebook.get_cells();\n",
       "                for (var i = 0; i < nbb_cells.length; ++i) {\n",
       "                    if (nbb_cells[i].input_prompt_number == nbb_cell_id) {\n",
       "                        if (nbb_cells[i].get_text() == nbb_unformatted_code) {\n",
       "                             nbb_cells[i].set_text(nbb_formatted_code);\n",
       "                        }\n",
       "                        break;\n",
       "                    }\n",
       "                }\n",
       "            }, 500);\n",
       "            "
      ],
      "text/plain": [
       "<IPython.core.display.Javascript object>"
      ]
     },
     "metadata": {},
     "output_type": "display_data"
    }
   ],
   "source": [
    "df_NA_num.columns"
   ]
  },
  {
   "cell_type": "code",
   "execution_count": 17,
   "metadata": {},
   "outputs": [
    {
     "name": "stdout",
     "output_type": "stream",
     "text": [
      "There is 7 strongly correlated values with a column:\n",
      "log_NA_Sales    1.000000\n",
      "NA_Sales        0.832614\n",
      "Critic_Combo    0.449285\n",
      "Critic_Count    0.391210\n",
      "Critic_Score    0.344018\n",
      "User_Count      0.286709\n",
      "User_Combo      0.284261\n",
      "Name: log_NA_Sales, dtype: float64\n"
     ]
    },
    {
     "data": {
      "application/javascript": [
       "\n",
       "            setTimeout(function() {\n",
       "                var nbb_cell_id = 17;\n",
       "                var nbb_unformatted_code = \"df_NA_num_corr = df_NA_num.corr()[\\\"log_NA_Sales\\\"][:]\\ngolden_feature_list = df_NA_num_corr[abs(df_NA_num_corr) > 0.2].sort_values(\\n    ascending=False\\n)\\nprint(\\n    \\\"There is {} strongly correlated values with a column:\\\\n{}\\\".format(\\n        len(golden_feature_list), golden_feature_list\\n    )\\n)\";\n",
       "                var nbb_formatted_code = \"df_NA_num_corr = df_NA_num.corr()[\\\"log_NA_Sales\\\"][:]\\ngolden_feature_list = df_NA_num_corr[abs(df_NA_num_corr) > 0.2].sort_values(\\n    ascending=False\\n)\\nprint(\\n    \\\"There is {} strongly correlated values with a column:\\\\n{}\\\".format(\\n        len(golden_feature_list), golden_feature_list\\n    )\\n)\";\n",
       "                var nbb_cells = Jupyter.notebook.get_cells();\n",
       "                for (var i = 0; i < nbb_cells.length; ++i) {\n",
       "                    if (nbb_cells[i].input_prompt_number == nbb_cell_id) {\n",
       "                        if (nbb_cells[i].get_text() == nbb_unformatted_code) {\n",
       "                             nbb_cells[i].set_text(nbb_formatted_code);\n",
       "                        }\n",
       "                        break;\n",
       "                    }\n",
       "                }\n",
       "            }, 500);\n",
       "            "
      ],
      "text/plain": [
       "<IPython.core.display.Javascript object>"
      ]
     },
     "metadata": {},
     "output_type": "display_data"
    }
   ],
   "source": [
    "df_NA_num_corr = df_NA_num.corr()[\"log_NA_Sales\"][:]\n",
    "golden_feature_list = df_NA_num_corr[abs(df_NA_num_corr) > 0.2].sort_values(\n",
    "    ascending=False\n",
    ")\n",
    "print(\n",
    "    \"There is {} strongly correlated values with a column:\\n{}\".format(\n",
    "        len(golden_feature_list), golden_feature_list\n",
    "    )\n",
    ")"
   ]
  },
  {
   "cell_type": "markdown",
   "metadata": {},
   "source": [
    "Here, it looks like the User_Count is more important that the actual User_Score. "
   ]
  },
  {
   "cell_type": "code",
   "execution_count": 18,
   "metadata": {
    "scrolled": true
   },
   "outputs": [
    {
     "name": "stdout",
     "output_type": "stream",
     "text": [
      "There is 8 strongly correlated values with a column:\n",
      "log_Global_Sales    1.000000\n",
      "Global_Sales        0.783157\n",
      "Critic_Combo        0.492343\n",
      "Critic_Count        0.434604\n",
      "Critic_Score        0.381688\n",
      "User_Count          0.330166\n",
      "User_Combo          0.325388\n",
      "User_Score          0.152417\n",
      "Name: log_Global_Sales, dtype: float64\n"
     ]
    },
    {
     "data": {
      "application/javascript": [
       "\n",
       "            setTimeout(function() {\n",
       "                var nbb_cell_id = 18;\n",
       "                var nbb_unformatted_code = \"df_Global_num_corr = df_Global_num.corr()[\\\"log_Global_Sales\\\"][:]\\ngolden_feature_list = df_Global_num_corr[abs(df_Global_num_corr) > 0.1].sort_values(\\n    ascending=False\\n)\\nprint(\\n    \\\"There is {} strongly correlated values with a column:\\\\n{}\\\".format(\\n        len(golden_feature_list), golden_feature_list\\n    )\\n)\";\n",
       "                var nbb_formatted_code = \"df_Global_num_corr = df_Global_num.corr()[\\\"log_Global_Sales\\\"][:]\\ngolden_feature_list = df_Global_num_corr[abs(df_Global_num_corr) > 0.1].sort_values(\\n    ascending=False\\n)\\nprint(\\n    \\\"There is {} strongly correlated values with a column:\\\\n{}\\\".format(\\n        len(golden_feature_list), golden_feature_list\\n    )\\n)\";\n",
       "                var nbb_cells = Jupyter.notebook.get_cells();\n",
       "                for (var i = 0; i < nbb_cells.length; ++i) {\n",
       "                    if (nbb_cells[i].input_prompt_number == nbb_cell_id) {\n",
       "                        if (nbb_cells[i].get_text() == nbb_unformatted_code) {\n",
       "                             nbb_cells[i].set_text(nbb_formatted_code);\n",
       "                        }\n",
       "                        break;\n",
       "                    }\n",
       "                }\n",
       "            }, 500);\n",
       "            "
      ],
      "text/plain": [
       "<IPython.core.display.Javascript object>"
      ]
     },
     "metadata": {},
     "output_type": "display_data"
    }
   ],
   "source": [
    "df_Global_num_corr = df_Global_num.corr()[\"log_Global_Sales\"][:]\n",
    "golden_feature_list = df_Global_num_corr[abs(df_Global_num_corr) > 0.1].sort_values(\n",
    "    ascending=False\n",
    ")\n",
    "print(\n",
    "    \"There is {} strongly correlated values with a column:\\n{}\".format(\n",
    "        len(golden_feature_list), golden_feature_list\n",
    "    )\n",
    ")"
   ]
  },
  {
   "cell_type": "markdown",
   "metadata": {},
   "source": [
    "Here, the effect of how outliers act on the model will be observed, and a closer look is taken of the impact of the new features."
   ]
  },
  {
   "cell_type": "code",
   "execution_count": 19,
   "metadata": {
    "scrolled": true
   },
   "outputs": [
    {
     "data": {
      "image/png": "[encoded data removed]",
      "text/plain": [
       "<Figure size 432x288 with 1 Axes>"
      ]
     },
     "metadata": {
      "needs_background": "light"
     },
     "output_type": "display_data"
    },
    {
     "data": {
      "application/javascript": [
       "\n",
       "            setTimeout(function() {\n",
       "                var nbb_cell_id = 19;\n",
       "                var nbb_unformatted_code = \"sns.scatterplot(x=df[\\\"Critic_Combo\\\"], y=df[\\\"log_Global_Sales\\\"])\\nplt.show()\";\n",
       "                var nbb_formatted_code = \"sns.scatterplot(x=df[\\\"Critic_Combo\\\"], y=df[\\\"log_Global_Sales\\\"])\\nplt.show()\";\n",
       "                var nbb_cells = Jupyter.notebook.get_cells();\n",
       "                for (var i = 0; i < nbb_cells.length; ++i) {\n",
       "                    if (nbb_cells[i].input_prompt_number == nbb_cell_id) {\n",
       "                        if (nbb_cells[i].get_text() == nbb_unformatted_code) {\n",
       "                             nbb_cells[i].set_text(nbb_formatted_code);\n",
       "                        }\n",
       "                        break;\n",
       "                    }\n",
       "                }\n",
       "            }, 500);\n",
       "            "
      ],
      "text/plain": [
       "<IPython.core.display.Javascript object>"
      ]
     },
     "metadata": {},
     "output_type": "display_data"
    }
   ],
   "source": [
    "sns.scatterplot(x=df[\"Critic_Combo\"], y=df[\"log_Global_Sales\"])\n",
    "plt.show()"
   ]
  },
  {
   "cell_type": "code",
   "execution_count": 20,
   "metadata": {},
   "outputs": [
    {
     "data": {
      "image/png": "[encoded data removed]",
      "text/plain": [
       "<Figure size 432x288 with 1 Axes>"
      ]
     },
     "metadata": {
      "needs_background": "light"
     },
     "output_type": "display_data"
    },
    {
     "data": {
      "application/javascript": [
       "\n",
       "            setTimeout(function() {\n",
       "                var nbb_cell_id = 20;\n",
       "                var nbb_unformatted_code = \"sns.scatterplot(x=df[\\\"User_Combo\\\"], y=df[\\\"log_Global_Sales\\\"])\\nplt.show()\";\n",
       "                var nbb_formatted_code = \"sns.scatterplot(x=df[\\\"User_Combo\\\"], y=df[\\\"log_Global_Sales\\\"])\\nplt.show()\";\n",
       "                var nbb_cells = Jupyter.notebook.get_cells();\n",
       "                for (var i = 0; i < nbb_cells.length; ++i) {\n",
       "                    if (nbb_cells[i].input_prompt_number == nbb_cell_id) {\n",
       "                        if (nbb_cells[i].get_text() == nbb_unformatted_code) {\n",
       "                             nbb_cells[i].set_text(nbb_formatted_code);\n",
       "                        }\n",
       "                        break;\n",
       "                    }\n",
       "                }\n",
       "            }, 500);\n",
       "            "
      ],
      "text/plain": [
       "<IPython.core.display.Javascript object>"
      ]
     },
     "metadata": {},
     "output_type": "display_data"
    }
   ],
   "source": [
    "sns.scatterplot(x=df[\"User_Combo\"], y=df[\"log_Global_Sales\"])\n",
    "plt.show()"
   ]
  },
  {
   "cell_type": "code",
   "execution_count": 21,
   "metadata": {
    "scrolled": false
   },
   "outputs": [
    {
     "data": {
      "image/png": "[encoded data removed]",
      "text/plain": [
       "<Figure size 576x288 with 2 Axes>"
      ]
     },
     "metadata": {
      "needs_background": "light"
     },
     "output_type": "display_data"
    },
    {
     "data": {
      "application/javascript": [
       "\n",
       "            setTimeout(function() {\n",
       "                var nbb_cell_id = 21;\n",
       "                var nbb_unformatted_code = \"plt.figure(figsize = (8,4))\\nplt.subplot(121)\\nplt.hist(x=df[\\\"log_NA_Sales\\\"], bins=50)\\nplt.subplot(122)\\nplt.hist(x=df[\\\"log_Global_Sales\\\"], bins=50)\\nplt.show()\";\n",
       "                var nbb_formatted_code = \"plt.figure(figsize=(8, 4))\\nplt.subplot(121)\\nplt.hist(x=df[\\\"log_NA_Sales\\\"], bins=50)\\nplt.subplot(122)\\nplt.hist(x=df[\\\"log_Global_Sales\\\"], bins=50)\\nplt.show()\";\n",
       "                var nbb_cells = Jupyter.notebook.get_cells();\n",
       "                for (var i = 0; i < nbb_cells.length; ++i) {\n",
       "                    if (nbb_cells[i].input_prompt_number == nbb_cell_id) {\n",
       "                        if (nbb_cells[i].get_text() == nbb_unformatted_code) {\n",
       "                             nbb_cells[i].set_text(nbb_formatted_code);\n",
       "                        }\n",
       "                        break;\n",
       "                    }\n",
       "                }\n",
       "            }, 500);\n",
       "            "
      ],
      "text/plain": [
       "<IPython.core.display.Javascript object>"
      ]
     },
     "metadata": {},
     "output_type": "display_data"
    }
   ],
   "source": [
    "plt.figure(figsize = (8,4))\n",
    "plt.subplot(121)\n",
    "plt.hist(x=df[\"log_NA_Sales\"], bins=50)\n",
    "plt.subplot(122)\n",
    "plt.hist(x=df[\"log_Global_Sales\"], bins=50)\n",
    "plt.show()\n"
   ]
  },
  {
   "cell_type": "markdown",
   "metadata": {},
   "source": [
    "The box plots below show that outliers are primarily on the upper-end.\n",
    "* removing outliers was not benificial to the model\n",
    "* cross-validation of the 90th, 95th, 97th, adn 99th percetile was used resulting in decaying performance the lower the percentile used."
   ]
  },
  {
   "cell_type": "code",
   "execution_count": 20,
   "metadata": {
    "scrolled": false
   },
   "outputs": [
    {
     "data": {
      "image/png": "[encoded data removed]",
      "text/plain": [
       "<Figure size 1008x360 with 2 Axes>"
      ]
     },
     "metadata": {
      "needs_background": "light"
     },
     "output_type": "display_data"
    },
    {
     "data": {
      "application/javascript": [
       "\n",
       "            setTimeout(function() {\n",
       "                var nbb_cell_id = 20;\n",
       "                var nbb_unformatted_code = \"plt.figure(figsize=(14, 5))\\nplt.subplot(121)\\nplt.boxplot(np.log1p(df[\\\"Global_Sales\\\"]))\\nplt.subplot(122)\\nplt.boxplot(np.log1p(df[\\\"NA_Sales\\\"]))\\n\\nplt.show()\";\n",
       "                var nbb_formatted_code = \"plt.figure(figsize=(14, 5))\\nplt.subplot(121)\\nplt.boxplot(np.log1p(df[\\\"Global_Sales\\\"]))\\nplt.subplot(122)\\nplt.boxplot(np.log1p(df[\\\"NA_Sales\\\"]))\\n\\nplt.show()\";\n",
       "                var nbb_cells = Jupyter.notebook.get_cells();\n",
       "                for (var i = 0; i < nbb_cells.length; ++i) {\n",
       "                    if (nbb_cells[i].input_prompt_number == nbb_cell_id) {\n",
       "                        if (nbb_cells[i].get_text() == nbb_unformatted_code) {\n",
       "                             nbb_cells[i].set_text(nbb_formatted_code);\n",
       "                        }\n",
       "                        break;\n",
       "                    }\n",
       "                }\n",
       "            }, 500);\n",
       "            "
      ],
      "text/plain": [
       "<IPython.core.display.Javascript object>"
      ]
     },
     "metadata": {},
     "output_type": "display_data"
    }
   ],
   "source": [
    "plt.figure(figsize=(14, 5))\n",
    "plt.subplot(121)\n",
    "plt.boxplot(np.log1p(df[\"Global_Sales\"]))\n",
    "plt.subplot(122)\n",
    "plt.boxplot(np.log1p(df[\"NA_Sales\"]))\n",
    "\n",
    "plt.show()"
   ]
  },
  {
   "cell_type": "markdown",
   "metadata": {},
   "source": [
    "Some of the 'Rating' catagory have too few entries. They will be dropped."
   ]
  },
  {
   "cell_type": "code",
   "execution_count": 22,
   "metadata": {},
   "outputs": [
    {
     "data": {
      "application/javascript": [
       "\n",
       "            setTimeout(function() {\n",
       "                var nbb_cell_id = 22;\n",
       "                var nbb_unformatted_code = \"wantedRatings = (\\n    (df.Rating == \\\"E\\\") | (df.Rating == \\\"M\\\") | (df.Rating == \\\"T\\\") | (df.Rating == \\\"E10+\\\")\\n)\\ndf = df.iloc[wantedRatings.values]\";\n",
       "                var nbb_formatted_code = \"wantedRatings = (\\n    (df.Rating == \\\"E\\\") | (df.Rating == \\\"M\\\") | (df.Rating == \\\"T\\\") | (df.Rating == \\\"E10+\\\")\\n)\\ndf = df.iloc[wantedRatings.values]\";\n",
       "                var nbb_cells = Jupyter.notebook.get_cells();\n",
       "                for (var i = 0; i < nbb_cells.length; ++i) {\n",
       "                    if (nbb_cells[i].input_prompt_number == nbb_cell_id) {\n",
       "                        if (nbb_cells[i].get_text() == nbb_unformatted_code) {\n",
       "                             nbb_cells[i].set_text(nbb_formatted_code);\n",
       "                        }\n",
       "                        break;\n",
       "                    }\n",
       "                }\n",
       "            }, 500);\n",
       "            "
      ],
      "text/plain": [
       "<IPython.core.display.Javascript object>"
      ]
     },
     "metadata": {},
     "output_type": "display_data"
    }
   ],
   "source": [
    "wantedRatings = (\n",
    "    (df.Rating == \"E\") | (df.Rating == \"M\") | (df.Rating == \"T\") | (df.Rating == \"E10+\")\n",
    ")\n",
    "df = df.iloc[wantedRatings.values]"
   ]
  },
  {
   "cell_type": "markdown",
   "metadata": {},
   "source": [
    "Next, outliers will be dropped in an attempt to improve the model's performance.\n",
    "\n",
    "The data will be cut of the rows where the 'Global_Sales' is outside of the 90th, 95th, 97th, 99th, and 99.9th percentiles.\n",
    "\n",
    "As seen below, the mean, and even the 75th percentile, is less than 1."
   ]
  },
  {
   "cell_type": "code",
   "execution_count": 23,
   "metadata": {},
   "outputs": [
    {
     "data": {
      "text/plain": [
       "count    6822.000000\n",
       "mean        0.777360\n",
       "std         1.963754\n",
       "min         0.010000\n",
       "25%         0.110000\n",
       "50%         0.290000\n",
       "75%         0.750000\n",
       "max        82.530000\n",
       "Name: Global_Sales, dtype: float64"
      ]
     },
     "execution_count": 23,
     "metadata": {},
     "output_type": "execute_result"
    },
    {
     "data": {
      "application/javascript": [
       "\n",
       "            setTimeout(function() {\n",
       "                var nbb_cell_id = 23;\n",
       "                var nbb_unformatted_code = \"df[\\\"Global_Sales\\\"].describe()\";\n",
       "                var nbb_formatted_code = \"df[\\\"Global_Sales\\\"].describe()\";\n",
       "                var nbb_cells = Jupyter.notebook.get_cells();\n",
       "                for (var i = 0; i < nbb_cells.length; ++i) {\n",
       "                    if (nbb_cells[i].input_prompt_number == nbb_cell_id) {\n",
       "                        if (nbb_cells[i].get_text() == nbb_unformatted_code) {\n",
       "                             nbb_cells[i].set_text(nbb_formatted_code);\n",
       "                        }\n",
       "                        break;\n",
       "                    }\n",
       "                }\n",
       "            }, 500);\n",
       "            "
      ],
      "text/plain": [
       "<IPython.core.display.Javascript object>"
      ]
     },
     "metadata": {},
     "output_type": "display_data"
    }
   ],
   "source": [
    "df[\"Global_Sales\"].describe()"
   ]
  },
  {
   "cell_type": "code",
   "execution_count": 47,
   "metadata": {
    "scrolled": true
   },
   "outputs": [
    {
     "name": "stdout",
     "output_type": "stream",
     "text": [
      "1.7 2.899499999999998 3.9958999999999927 7.1678999999999995 22.791290000000508\n"
     ]
    },
    {
     "data": {
      "application/javascript": [
       "\n",
       "            setTimeout(function() {\n",
       "                var nbb_cell_id = 47;\n",
       "                var nbb_unformatted_code = \"perc_90, perc_95, perc_97, perc_99, perc_999 = np.percentile(\\n    df[\\\"Global_Sales\\\"], [90, 95, 97, 99, 99.9]\\n)\\nprint(perc_90, perc_95, perc_97, perc_99, perc_999)\";\n",
       "                var nbb_formatted_code = \"perc_90, perc_95, perc_97, perc_99, perc_999 = np.percentile(\\n    df[\\\"Global_Sales\\\"], [90, 95, 97, 99, 99.9]\\n)\\nprint(perc_90, perc_95, perc_97, perc_99, perc_999)\";\n",
       "                var nbb_cells = Jupyter.notebook.get_cells();\n",
       "                for (var i = 0; i < nbb_cells.length; ++i) {\n",
       "                    if (nbb_cells[i].input_prompt_number == nbb_cell_id) {\n",
       "                        if (nbb_cells[i].get_text() == nbb_unformatted_code) {\n",
       "                             nbb_cells[i].set_text(nbb_formatted_code);\n",
       "                        }\n",
       "                        break;\n",
       "                    }\n",
       "                }\n",
       "            }, 500);\n",
       "            "
      ],
      "text/plain": [
       "<IPython.core.display.Javascript object>"
      ]
     },
     "metadata": {},
     "output_type": "display_data"
    }
   ],
   "source": [
    "perc_90, perc_95, perc_97, perc_99, perc_999 = np.percentile(\n",
    "    df[\"Global_Sales\"], [90, 95, 97, 99, 99.9]\n",
    ")\n",
    "print(perc_90, perc_95, perc_97, perc_99, perc_999)"
   ]
  },
  {
   "cell_type": "code",
   "execution_count": 48,
   "metadata": {},
   "outputs": [
    {
     "data": {
      "application/javascript": [
       "\n",
       "            setTimeout(function() {\n",
       "                var nbb_cell_id = 48;\n",
       "                var nbb_unformatted_code = \"in_perc_90 = df.Global_Sales <= perc_90\\nin_perc_95 = df.Global_Sales <= perc_95\\nin_perc_97 = df.Global_Sales <= perc_97\\nin_perc_99 = df.Global_Sales <= perc_99\\nin_perc_999 = df.Global_Sales <= perc_999\\n\\ndf_90_G = df.iloc[in_perc_90.values]\\ndf_95_G = df.iloc[in_perc_95.values]\\ndf_97_G = df.iloc[in_perc_97.values]\\ndf_99_G = df.iloc[in_perc_99.values]\\ndf_999_G = df.iloc[in_perc_999.values]\";\n",
       "                var nbb_formatted_code = \"in_perc_90 = df.Global_Sales <= perc_90\\nin_perc_95 = df.Global_Sales <= perc_95\\nin_perc_97 = df.Global_Sales <= perc_97\\nin_perc_99 = df.Global_Sales <= perc_99\\nin_perc_999 = df.Global_Sales <= perc_999\\n\\ndf_90_G = df.iloc[in_perc_90.values]\\ndf_95_G = df.iloc[in_perc_95.values]\\ndf_97_G = df.iloc[in_perc_97.values]\\ndf_99_G = df.iloc[in_perc_99.values]\\ndf_999_G = df.iloc[in_perc_999.values]\";\n",
       "                var nbb_cells = Jupyter.notebook.get_cells();\n",
       "                for (var i = 0; i < nbb_cells.length; ++i) {\n",
       "                    if (nbb_cells[i].input_prompt_number == nbb_cell_id) {\n",
       "                        if (nbb_cells[i].get_text() == nbb_unformatted_code) {\n",
       "                             nbb_cells[i].set_text(nbb_formatted_code);\n",
       "                        }\n",
       "                        break;\n",
       "                    }\n",
       "                }\n",
       "            }, 500);\n",
       "            "
      ],
      "text/plain": [
       "<IPython.core.display.Javascript object>"
      ]
     },
     "metadata": {},
     "output_type": "display_data"
    }
   ],
   "source": [
    "in_perc_90 = df.Global_Sales <= perc_90\n",
    "in_perc_95 = df.Global_Sales <= perc_95\n",
    "in_perc_97 = df.Global_Sales <= perc_97\n",
    "in_perc_99 = df.Global_Sales <= perc_99\n",
    "in_perc_999 = df.Global_Sales <= perc_999\n",
    "\n",
    "df_90_G = df.iloc[in_perc_90.values]\n",
    "df_95_G = df.iloc[in_perc_95.values]\n",
    "df_97_G = df.iloc[in_perc_97.values]\n",
    "df_99_G = df.iloc[in_perc_99.values]\n",
    "df_999_G = df.iloc[in_perc_999.values]\n"
   ]
  },
  {
   "cell_type": "code",
   "execution_count": 25,
   "metadata": {},
   "outputs": [
    {
     "data": {
      "application/javascript": [
       "\n",
       "            setTimeout(function() {\n",
       "                var nbb_cell_id = 25;\n",
       "                var nbb_unformatted_code = \"perc_90, perc_95, perc_97, perc_99, perc_999 = np.percentile(df[\\\"NA_Sales\\\"], [90, 95, 97, 99, 99.9])\\n\\nin_perc_90 = df.NA_Sales <= perc_90\\nin_perc_95 = df.NA_Sales <= perc_95\\nin_perc_97 = df.NA_Sales <= perc_97\\nin_perc_99 = df.NA_Sales <= perc_99\\n\\ndf_90 = df.iloc[in_perc_90.values]\\ndf_95 = df.iloc[in_perc_95.values]\\ndf_97 = df.iloc[in_perc_97.values]\\ndf_99 = df.iloc[in_perc_99.values]\";\n",
       "                var nbb_formatted_code = \"perc_90, perc_95, perc_97, perc_99, perc_999 = np.percentile(\\n    df[\\\"NA_Sales\\\"], [90, 95, 97, 99, 99.9]\\n)\\n\\nin_perc_90 = df.NA_Sales <= perc_90\\nin_perc_95 = df.NA_Sales <= perc_95\\nin_perc_97 = df.NA_Sales <= perc_97\\nin_perc_99 = df.NA_Sales <= perc_99\\n\\ndf_90 = df.iloc[in_perc_90.values]\\ndf_95 = df.iloc[in_perc_95.values]\\ndf_97 = df.iloc[in_perc_97.values]\\ndf_99 = df.iloc[in_perc_99.values]\";\n",
       "                var nbb_cells = Jupyter.notebook.get_cells();\n",
       "                for (var i = 0; i < nbb_cells.length; ++i) {\n",
       "                    if (nbb_cells[i].input_prompt_number == nbb_cell_id) {\n",
       "                        if (nbb_cells[i].get_text() == nbb_unformatted_code) {\n",
       "                             nbb_cells[i].set_text(nbb_formatted_code);\n",
       "                        }\n",
       "                        break;\n",
       "                    }\n",
       "                }\n",
       "            }, 500);\n",
       "            "
      ],
      "text/plain": [
       "<IPython.core.display.Javascript object>"
      ]
     },
     "metadata": {},
     "output_type": "display_data"
    }
   ],
   "source": [
    "perc_90, perc_95, perc_97, perc_99, perc_999 = np.percentile(df[\"NA_Sales\"], [90, 95, 97, 99, 99.9])\n",
    "\n",
    "in_perc_90 = df.NA_Sales <= perc_90\n",
    "in_perc_95 = df.NA_Sales <= perc_95\n",
    "in_perc_97 = df.NA_Sales <= perc_97\n",
    "in_perc_99 = df.NA_Sales <= perc_99\n",
    "\n",
    "df_90 = df.iloc[in_perc_90.values]\n",
    "df_95 = df.iloc[in_perc_95.values]\n",
    "df_97 = df.iloc[in_perc_97.values]\n",
    "df_99 = df.iloc[in_perc_99.values]\n"
   ]
  },
  {
   "cell_type": "markdown",
   "metadata": {},
   "source": [
    "* observe the distribution of 99th percentile of the target. "
   ]
  },
  {
   "cell_type": "code",
   "execution_count": 26,
   "metadata": {
    "scrolled": true
   },
   "outputs": [
    {
     "data": {
      "image/png": "[encoded data removed]",
      "text/plain": [
       "<Figure size 432x288 with 1 Axes>"
      ]
     },
     "metadata": {
      "needs_background": "light"
     },
     "output_type": "display_data"
    },
    {
     "data": {
      "application/javascript": [
       "\n",
       "            setTimeout(function() {\n",
       "                var nbb_cell_id = 26;\n",
       "                var nbb_unformatted_code = \"plt.hist(x=df_99[\\\"log_NA_Sales\\\"])\\nplt.show()\";\n",
       "                var nbb_formatted_code = \"plt.hist(x=df_99[\\\"log_NA_Sales\\\"])\\nplt.show()\";\n",
       "                var nbb_cells = Jupyter.notebook.get_cells();\n",
       "                for (var i = 0; i < nbb_cells.length; ++i) {\n",
       "                    if (nbb_cells[i].input_prompt_number == nbb_cell_id) {\n",
       "                        if (nbb_cells[i].get_text() == nbb_unformatted_code) {\n",
       "                             nbb_cells[i].set_text(nbb_formatted_code);\n",
       "                        }\n",
       "                        break;\n",
       "                    }\n",
       "                }\n",
       "            }, 500);\n",
       "            "
      ],
      "text/plain": [
       "<IPython.core.display.Javascript object>"
      ]
     },
     "metadata": {},
     "output_type": "display_data"
    }
   ],
   "source": [
    "plt.hist(x=df_99[\"log_NA_Sales\"])\n",
    "plt.show()"
   ]
  },
  {
   "cell_type": "markdown",
   "metadata": {},
   "source": [
    "Here it is decided to drop out some columns that are going to cause problems or be multilcolinear. \n",
    "It is safe to say that sales in other places will definitely be removed. Keeping them in would be cheating, and log_Global_Sales will be the target variable. "
   ]
  },
  {
   "cell_type": "code",
   "execution_count": 24,
   "metadata": {},
   "outputs": [
    {
     "data": {
      "application/javascript": [
       "\n",
       "            setTimeout(function() {\n",
       "                var nbb_cell_id = 24;\n",
       "                var nbb_unformatted_code = \"# Import library for VIF\\nfrom statsmodels.stats.outliers_influence import variance_inflation_factor\\n\\n\\ndef calc_vif(X):\\n\\n    # Calculating VIF\\n    vif = pd.DataFrame()\\n    vif[\\\"variables\\\"] = X.columns\\n    vif[\\\"VIF\\\"] = [variance_inflation_factor(X.values, i) for i in range(X.shape[1])]\\n\\n    return vif\";\n",
       "                var nbb_formatted_code = \"# Import library for VIF\\nfrom statsmodels.stats.outliers_influence import variance_inflation_factor\\n\\n\\ndef calc_vif(X):\\n\\n    # Calculating VIF\\n    vif = pd.DataFrame()\\n    vif[\\\"variables\\\"] = X.columns\\n    vif[\\\"VIF\\\"] = [variance_inflation_factor(X.values, i) for i in range(X.shape[1])]\\n\\n    return vif\";\n",
       "                var nbb_cells = Jupyter.notebook.get_cells();\n",
       "                for (var i = 0; i < nbb_cells.length; ++i) {\n",
       "                    if (nbb_cells[i].input_prompt_number == nbb_cell_id) {\n",
       "                        if (nbb_cells[i].get_text() == nbb_unformatted_code) {\n",
       "                             nbb_cells[i].set_text(nbb_formatted_code);\n",
       "                        }\n",
       "                        break;\n",
       "                    }\n",
       "                }\n",
       "            }, 500);\n",
       "            "
      ],
      "text/plain": [
       "<IPython.core.display.Javascript object>"
      ]
     },
     "metadata": {},
     "output_type": "display_data"
    }
   ],
   "source": [
    "# Import library for VIF\n",
    "from statsmodels.stats.outliers_influence import variance_inflation_factor\n",
    "\n",
    "\n",
    "def calc_vif(X):\n",
    "\n",
    "    # Calculating VIF\n",
    "    vif = pd.DataFrame()\n",
    "    vif[\"variables\"] = X.columns\n",
    "    vif[\"VIF\"] = [variance_inflation_factor(X.values, i) for i in range(X.shape[1])]\n",
    "\n",
    "    return vif"
   ]
  },
  {
   "cell_type": "code",
   "execution_count": 25,
   "metadata": {},
   "outputs": [
    {
     "data": {
      "application/javascript": [
       "\n",
       "            setTimeout(function() {\n",
       "                var nbb_cell_id = 25;\n",
       "                var nbb_unformatted_code = \"df_Global_num = df_Global.select_dtypes(include=[\\\"float64\\\", \\\"int64\\\"])\\ndf_Global_num = df_Global_num.drop(\\n    columns=[\\n        \\\"Global_Sales\\\",\\n        \\\"log_Global_Sales\\\",\\n        \\\"User_Score\\\",\\n        \\\"User_Combo\\\",\\n        \\\"Critic_Count\\\",\\n        \\\"Critic_Score\\\",\\n    ]\\n)\";\n",
       "                var nbb_formatted_code = \"df_Global_num = df_Global.select_dtypes(include=[\\\"float64\\\", \\\"int64\\\"])\\ndf_Global_num = df_Global_num.drop(\\n    columns=[\\n        \\\"Global_Sales\\\",\\n        \\\"log_Global_Sales\\\",\\n        \\\"User_Score\\\",\\n        \\\"User_Combo\\\",\\n        \\\"Critic_Count\\\",\\n        \\\"Critic_Score\\\",\\n    ]\\n)\";\n",
       "                var nbb_cells = Jupyter.notebook.get_cells();\n",
       "                for (var i = 0; i < nbb_cells.length; ++i) {\n",
       "                    if (nbb_cells[i].input_prompt_number == nbb_cell_id) {\n",
       "                        if (nbb_cells[i].get_text() == nbb_unformatted_code) {\n",
       "                             nbb_cells[i].set_text(nbb_formatted_code);\n",
       "                        }\n",
       "                        break;\n",
       "                    }\n",
       "                }\n",
       "            }, 500);\n",
       "            "
      ],
      "text/plain": [
       "<IPython.core.display.Javascript object>"
      ]
     },
     "metadata": {},
     "output_type": "display_data"
    }
   ],
   "source": [
    "df_Global_num = df_Global.select_dtypes(include=[\"float64\", \"int64\"])\n",
    "df_Global_num = df_Global_num.drop(\n",
    "    columns=[\n",
    "        \"Global_Sales\",\n",
    "        \"log_Global_Sales\",\n",
    "        \"User_Score\",\n",
    "        \"User_Combo\",\n",
    "        \"Critic_Count\",\n",
    "        \"Critic_Score\",\n",
    "    ]\n",
    ")"
   ]
  },
  {
   "cell_type": "code",
   "execution_count": 26,
   "metadata": {},
   "outputs": [
    {
     "data": {
      "text/html": [
       "<div>\n",
       "<style scoped>\n",
       "    .dataframe tbody tr th:only-of-type {\n",
       "        vertical-align: middle;\n",
       "    }\n",
       "\n",
       "    .dataframe tbody tr th {\n",
       "        vertical-align: top;\n",
       "    }\n",
       "\n",
       "    .dataframe thead th {\n",
       "        text-align: right;\n",
       "    }\n",
       "</style>\n",
       "<table border=\"1\" class=\"dataframe\">\n",
       "  <thead>\n",
       "    <tr style=\"text-align: right;\">\n",
       "      <th></th>\n",
       "      <th>variables</th>\n",
       "      <th>VIF</th>\n",
       "    </tr>\n",
       "  </thead>\n",
       "  <tbody>\n",
       "    <tr>\n",
       "      <th>0</th>\n",
       "      <td>Year_of_Release</td>\n",
       "      <td>2.775790</td>\n",
       "    </tr>\n",
       "    <tr>\n",
       "      <th>1</th>\n",
       "      <td>User_Count</td>\n",
       "      <td>1.316186</td>\n",
       "    </tr>\n",
       "    <tr>\n",
       "      <th>2</th>\n",
       "      <td>Critic_Combo</td>\n",
       "      <td>3.268180</td>\n",
       "    </tr>\n",
       "  </tbody>\n",
       "</table>\n",
       "</div>"
      ],
      "text/plain": [
       "         variables       VIF\n",
       "0  Year_of_Release  2.775790\n",
       "1       User_Count  1.316186\n",
       "2     Critic_Combo  3.268180"
      ]
     },
     "execution_count": 26,
     "metadata": {},
     "output_type": "execute_result"
    },
    {
     "data": {
      "application/javascript": [
       "\n",
       "            setTimeout(function() {\n",
       "                var nbb_cell_id = 26;\n",
       "                var nbb_unformatted_code = \"calc_vif(df_Global_num)\";\n",
       "                var nbb_formatted_code = \"calc_vif(df_Global_num)\";\n",
       "                var nbb_cells = Jupyter.notebook.get_cells();\n",
       "                for (var i = 0; i < nbb_cells.length; ++i) {\n",
       "                    if (nbb_cells[i].input_prompt_number == nbb_cell_id) {\n",
       "                        if (nbb_cells[i].get_text() == nbb_unformatted_code) {\n",
       "                             nbb_cells[i].set_text(nbb_formatted_code);\n",
       "                        }\n",
       "                        break;\n",
       "                    }\n",
       "                }\n",
       "            }, 500);\n",
       "            "
      ],
      "text/plain": [
       "<IPython.core.display.Javascript object>"
      ]
     },
     "metadata": {},
     "output_type": "display_data"
    }
   ],
   "source": [
    "calc_vif(df_Global_num)"
   ]
  },
  {
   "cell_type": "markdown",
   "metadata": {},
   "source": [
    "Some of the numeric columns where dropped due to multicolinearity"
   ]
  },
  {
   "cell_type": "code",
   "execution_count": 27,
   "metadata": {},
   "outputs": [
    {
     "data": {
      "application/javascript": [
       "\n",
       "            setTimeout(function() {\n",
       "                var nbb_cell_id = 27;\n",
       "                var nbb_unformatted_code = \"df_cats = df.select_dtypes(include=[\\\"object\\\"])\";\n",
       "                var nbb_formatted_code = \"df_cats = df.select_dtypes(include=[\\\"object\\\"])\";\n",
       "                var nbb_cells = Jupyter.notebook.get_cells();\n",
       "                for (var i = 0; i < nbb_cells.length; ++i) {\n",
       "                    if (nbb_cells[i].input_prompt_number == nbb_cell_id) {\n",
       "                        if (nbb_cells[i].get_text() == nbb_unformatted_code) {\n",
       "                             nbb_cells[i].set_text(nbb_formatted_code);\n",
       "                        }\n",
       "                        break;\n",
       "                    }\n",
       "                }\n",
       "            }, 500);\n",
       "            "
      ],
      "text/plain": [
       "<IPython.core.display.Javascript object>"
      ]
     },
     "metadata": {},
     "output_type": "display_data"
    }
   ],
   "source": [
    "df_cats = df.select_dtypes(include=[\"object\"])"
   ]
  },
  {
   "cell_type": "code",
   "execution_count": 28,
   "metadata": {
    "scrolled": true
   },
   "outputs": [
    {
     "data": {
      "text/plain": [
       "Index(['Name', 'Platform', 'Genre', 'Publisher', 'Developer', 'Rating'], dtype='object')"
      ]
     },
     "execution_count": 28,
     "metadata": {},
     "output_type": "execute_result"
    },
    {
     "data": {
      "application/javascript": [
       "\n",
       "            setTimeout(function() {\n",
       "                var nbb_cell_id = 28;\n",
       "                var nbb_unformatted_code = \"df_cats.columns\";\n",
       "                var nbb_formatted_code = \"df_cats.columns\";\n",
       "                var nbb_cells = Jupyter.notebook.get_cells();\n",
       "                for (var i = 0; i < nbb_cells.length; ++i) {\n",
       "                    if (nbb_cells[i].input_prompt_number == nbb_cell_id) {\n",
       "                        if (nbb_cells[i].get_text() == nbb_unformatted_code) {\n",
       "                             nbb_cells[i].set_text(nbb_formatted_code);\n",
       "                        }\n",
       "                        break;\n",
       "                    }\n",
       "                }\n",
       "            }, 500);\n",
       "            "
      ],
      "text/plain": [
       "<IPython.core.display.Javascript object>"
      ]
     },
     "metadata": {},
     "output_type": "display_data"
    }
   ],
   "source": [
    "df_cats.columns"
   ]
  },
  {
   "cell_type": "markdown",
   "metadata": {},
   "source": [
    "* Now, to move on to the catagorical data.\n",
    "    * Columns with too many unique elements were observed to see if they could be compressed. \n",
    "    * elements with less than a given threshold of hits are bagged together into a new element, \"other\". "
   ]
  },
  {
   "cell_type": "code",
   "execution_count": 29,
   "metadata": {},
   "outputs": [
    {
     "data": {
      "text/plain": [
       "array(['Nintendo', 'Microsoft Game Studios', 'Take-Two Interactive',\n",
       "       'Sony Computer Entertainment', 'Activision', 'Ubisoft',\n",
       "       'Bethesda Softworks', 'Electronic Arts', 'SquareSoft',\n",
       "       'GT Interactive', 'Konami Digital Entertainment', 'Square Enix',\n",
       "       'Sony Computer Entertainment Europe', 'Virgin Interactive',\n",
       "       'LucasArts', '505 Games', 'Capcom',\n",
       "       'Warner Bros. Interactive Entertainment', 'Universal Interactive',\n",
       "       'RedOctane', 'Atari', 'Eidos Interactive', 'Namco Bandai Games',\n",
       "       'Vivendi Games', 'MTV Games', 'Sega', 'THQ',\n",
       "       'Disney Interactive Studios', 'Acclaim Entertainment',\n",
       "       'Midway Games', 'Deep Silver', 'NCSoft', 'Tecmo Koei',\n",
       "       'Valve Software', 'Infogrames', 'Mindscape', 'Valve',\n",
       "       'Hello Games', 'Global Star', 'Gotham Games',\n",
       "       'Crave Entertainment', 'Hasbro Interactive', 'Codemasters',\n",
       "       'TDK Mediactive', 'Zoo Games', 'Sony Oznline Entertainment', 'RTL',\n",
       "       'D3Publisher', 'Black Label Games', 'SouthPeak Games',\n",
       "       'Zoo Digital Publishing', 'City Interactive', 'Empire Interactive',\n",
       "       'Russel', 'Atlus', 'Mastertronic', 'Slightly Mad Studios',\n",
       "       'Play It', 'Tomy Corporation', 'Focus Home Interactive', 'Unknown',\n",
       "       'Game Factory', 'Titus', 'Marvelous Entertainment', 'Genki',\n",
       "       'TalonSoft', 'Square Enix ', 'SCi', 'Rage Software',\n",
       "       'Ubisoft Annecy', 'Rising Star Games', 'Enix Corporation',\n",
       "       'Level 5', 'Koch Media', 'Square EA', 'Touchstone', 'Spike',\n",
       "       'Nippon Ichi Software', 'Sony Computer Entertainment America',\n",
       "       'Illusion Softworks', 'Interplay', 'Metro 3D',\n",
       "       'Sony Online Entertainment', 'Rondomedia', 'Ghostlight',\n",
       "       'Majesco Entertainment', 'PQube', 'Trion Worlds', 'Xseed Games',\n",
       "       'Ignition Entertainment', 'Kadokawa Shoten', 'Natsume', 'Square',\n",
       "       'Gamebridge', 'Midas Interactive Entertainment',\n",
       "       'ASCII Entertainment', 'Rebellion', 'Harmonix Music Systems',\n",
       "       'Activision Blizzard', 'Xplosiv', 'System 3 Arcade Software',\n",
       "       'Wanadoo', 'NovaLogic', 'BAM! Entertainment', 'Tetris Online',\n",
       "       'Psygnosis', 'Screenlife', 'GungHo', 'Jester Interactive',\n",
       "       'Black Bean Games', '3DO', 'Takara Tomy', 'Sammy Corporation',\n",
       "       'Hudson Soft', 'Marvelous Interactive', 'Kalypso Media',\n",
       "       'Home Entertainment Suppliers', 'Arc System Works', 'Banpresto',\n",
       "       'Wargaming.net', 'Destineer', 'Pacific Century Cyber Works',\n",
       "       'PopCap Games', 'Indie Games', 'FuRyu', 'Nihon Falcom Corporation',\n",
       "       'Gathering of Developers', 'Oxygen Interactive',\n",
       "       'DTP Entertainment', 'Falcom Corporation', 'Kemco',\n",
       "       'Milestone S.r.l.', 'AQ Interactive', 'Agetec', 'XS Games',\n",
       "       'Activision Value', 'Telltale Games', 'Zushi Games', 'CCP',\n",
       "       'Agatsuma Entertainment', 'Compile Heart', 'Mad Catz', 'Gust',\n",
       "       'Media Rings', 'JoWood Productions', 'Brash Entertainment',\n",
       "       'Funcom', 'Jaleco', 'Playlogic Game Factory',\n",
       "       'Human Entertainment', 'Fox Interactive', 'Scholastic Inc.',\n",
       "       'System 3', 'Nordic Games', 'White Park Bay Software', 'EA Games',\n",
       "       'Acquire', 'Paradox Interactive', 'Yacht Club Games',\n",
       "       'Swing! Entertainment', 'Hip Interactive', 'Tripwire Interactive',\n",
       "       'Enterbrain', 'Havas Interactive', 'Sting', 'Idea Factory',\n",
       "       'Funsta', 'Tru Blu Entertainment', 'Moss', 'From Software',\n",
       "       'NDA Productions', 'Bigben Interactive',\n",
       "       'Idea Factory International', 'O-Games', 'Funbox Media',\n",
       "       'Valcon Games', 'PM Studios', 'Bohemia Interactive', 'Aqua Plus',\n",
       "       'Ackkstudios', 'HMH Interactive', 'inXile Entertainment', 'Cave',\n",
       "       'Microids', 'Phantom EFX', 'Evolved Games', 'O3 Entertainment',\n",
       "       'Aspyr', 'Nobilis', 'Sunsoft', 'DSI Games', 'Little Orbit',\n",
       "       'Telegames', 'The Adventure Company', 'Popcorn Arcade',\n",
       "       'Insomniac Games', 'Aksys Games', 'Taito', 'Reef Entertainment',\n",
       "       'Irem Software Engineering', 'Myelin Media', 'Success', 'SNK',\n",
       "       'Avalon Interactive', 'Revolution Software', 'Gamecock',\n",
       "       'Groove Games', 'Hudson Entertainment', 'Mercury Games',\n",
       "       'Ascaron Entertainment GmbH', 'Mastiff',\n",
       "       'Destination Software, Inc', 'Graffiti', '1C Company',\n",
       "       'Phantagram', 'DreamCatcher Interactive',\n",
       "       'Dusenberry Martin Racing', 'Navarre Corp', 'ESP',\n",
       "       'Team17 Software', 'Max Five', 'Conspiracy Entertainment',\n",
       "       'Milestone S.r.l', 'Rebellion Developments', 'Kool Kizz',\n",
       "       'Monte Christo Multimedia', '5pb',\n",
       "       'Cloud Imperium Games Corporation', 'Flashpoint Games',\n",
       "       'Alternative Software', 'DHM Interactive', 'Iceberg Interactive',\n",
       "       'MC2 Entertainment', '2D Boy', 'Gearbox Software',\n",
       "       'Global A Entertainment', 'Just Flight', 'bitComposer Games',\n",
       "       'Introversion Software', 'Sold Out', 'Sunflowers', 'id Software',\n",
       "       'Maxis', 'Pinnacle', 'Xicat Interactive', 'Devolver Digital',\n",
       "       'Number None', 'Strategy First', 'Lexicon Entertainment', 'GOA',\n",
       "       'Avanquest', 'Graphsim Entertainment', 'Codemasters Online',\n",
       "       'Stainless Games', '10TACLE Studios', 'FuRyu Corporation', 'Visco',\n",
       "       'Crimson Cow', 'Lighthouse Interactive',\n",
       "       'CDV Software Entertainment', 'Encore', 'Blue Byte', 'NewKidCo'],\n",
       "      dtype=object)"
      ]
     },
     "execution_count": 29,
     "metadata": {},
     "output_type": "execute_result"
    },
    {
     "data": {
      "application/javascript": [
       "\n",
       "            setTimeout(function() {\n",
       "                var nbb_cell_id = 29;\n",
       "                var nbb_unformatted_code = \"df_cats.Publisher.unique()\";\n",
       "                var nbb_formatted_code = \"df_cats.Publisher.unique()\";\n",
       "                var nbb_cells = Jupyter.notebook.get_cells();\n",
       "                for (var i = 0; i < nbb_cells.length; ++i) {\n",
       "                    if (nbb_cells[i].input_prompt_number == nbb_cell_id) {\n",
       "                        if (nbb_cells[i].get_text() == nbb_unformatted_code) {\n",
       "                             nbb_cells[i].set_text(nbb_formatted_code);\n",
       "                        }\n",
       "                        break;\n",
       "                    }\n",
       "                }\n",
       "            }, 500);\n",
       "            "
      ],
      "text/plain": [
       "<IPython.core.display.Javascript object>"
      ]
     },
     "metadata": {},
     "output_type": "display_data"
    }
   ],
   "source": [
    "df_cats.Publisher.unique()"
   ]
  },
  {
   "cell_type": "code",
   "execution_count": 30,
   "metadata": {},
   "outputs": [
    {
     "data": {
      "text/plain": [
       "PS2     1140\n",
       "X360     858\n",
       "PS3      769\n",
       "PC       650\n",
       "XB       564\n",
       "Wii      479\n",
       "DS       464\n",
       "PSP      390\n",
       "GC       348\n",
       "PS4      239\n",
       "GBA      237\n",
       "XOne     159\n",
       "3DS      155\n",
       "PS       149\n",
       "PSV      118\n",
       "WiiU      89\n",
       "DC        14\n",
       "Name: Platform, dtype: int64"
      ]
     },
     "execution_count": 30,
     "metadata": {},
     "output_type": "execute_result"
    },
    {
     "data": {
      "application/javascript": [
       "\n",
       "            setTimeout(function() {\n",
       "                var nbb_cell_id = 30;\n",
       "                var nbb_unformatted_code = \"df_cats.Platform.value_counts()\";\n",
       "                var nbb_formatted_code = \"df_cats.Platform.value_counts()\";\n",
       "                var nbb_cells = Jupyter.notebook.get_cells();\n",
       "                for (var i = 0; i < nbb_cells.length; ++i) {\n",
       "                    if (nbb_cells[i].input_prompt_number == nbb_cell_id) {\n",
       "                        if (nbb_cells[i].get_text() == nbb_unformatted_code) {\n",
       "                             nbb_cells[i].set_text(nbb_formatted_code);\n",
       "                        }\n",
       "                        break;\n",
       "                    }\n",
       "                }\n",
       "            }, 500);\n",
       "            "
      ],
      "text/plain": [
       "<IPython.core.display.Javascript object>"
      ]
     },
     "metadata": {},
     "output_type": "display_data"
    }
   ],
   "source": [
    "df_cats.Platform.value_counts()"
   ]
  },
  {
   "cell_type": "code",
   "execution_count": 31,
   "metadata": {},
   "outputs": [
    {
     "data": {
      "text/plain": [
       "Action          1629\n",
       "Sports           943\n",
       "Shooter          864\n",
       "Role-Playing     712\n",
       "Racing           581\n",
       "Platform         403\n",
       "Misc             383\n",
       "Fighting         378\n",
       "Simulation       297\n",
       "Strategy         266\n",
       "Adventure        248\n",
       "Puzzle           118\n",
       "Name: Genre, dtype: int64"
      ]
     },
     "execution_count": 31,
     "metadata": {},
     "output_type": "execute_result"
    },
    {
     "data": {
      "application/javascript": [
       "\n",
       "            setTimeout(function() {\n",
       "                var nbb_cell_id = 31;\n",
       "                var nbb_unformatted_code = \"df_cats.Genre.value_counts()\";\n",
       "                var nbb_formatted_code = \"df_cats.Genre.value_counts()\";\n",
       "                var nbb_cells = Jupyter.notebook.get_cells();\n",
       "                for (var i = 0; i < nbb_cells.length; ++i) {\n",
       "                    if (nbb_cells[i].input_prompt_number == nbb_cell_id) {\n",
       "                        if (nbb_cells[i].get_text() == nbb_unformatted_code) {\n",
       "                             nbb_cells[i].set_text(nbb_formatted_code);\n",
       "                        }\n",
       "                        break;\n",
       "                    }\n",
       "                }\n",
       "            }, 500);\n",
       "            "
      ],
      "text/plain": [
       "<IPython.core.display.Javascript object>"
      ]
     },
     "metadata": {},
     "output_type": "display_data"
    }
   ],
   "source": [
    "df_cats.Genre.value_counts()"
   ]
  },
  {
   "cell_type": "code",
   "execution_count": 32,
   "metadata": {},
   "outputs": [
    {
     "data": {
      "image/png": "[encoded data removed]",
      "text/plain": [
       "<Figure size 432x288 with 1 Axes>"
      ]
     },
     "metadata": {
      "needs_background": "light"
     },
     "output_type": "display_data"
    },
    {
     "data": {
      "application/javascript": [
       "\n",
       "            setTimeout(function() {\n",
       "                var nbb_cell_id = 32;\n",
       "                var nbb_unformatted_code = \"plt.hist(df_cats.Publisher.value_counts(), bins=50)\\nplt.show()\";\n",
       "                var nbb_formatted_code = \"plt.hist(df_cats.Publisher.value_counts(), bins=50)\\nplt.show()\";\n",
       "                var nbb_cells = Jupyter.notebook.get_cells();\n",
       "                for (var i = 0; i < nbb_cells.length; ++i) {\n",
       "                    if (nbb_cells[i].input_prompt_number == nbb_cell_id) {\n",
       "                        if (nbb_cells[i].get_text() == nbb_unformatted_code) {\n",
       "                             nbb_cells[i].set_text(nbb_formatted_code);\n",
       "                        }\n",
       "                        break;\n",
       "                    }\n",
       "                }\n",
       "            }, 500);\n",
       "            "
      ],
      "text/plain": [
       "<IPython.core.display.Javascript object>"
      ]
     },
     "metadata": {},
     "output_type": "display_data"
    }
   ],
   "source": [
    "plt.hist(df_cats.Publisher.value_counts(), bins=50)\n",
    "plt.show()"
   ]
  },
  {
   "cell_type": "code",
   "execution_count": 36,
   "metadata": {},
   "outputs": [
    {
     "data": {
      "text/plain": [
       "Electronic Arts                           944\n",
       "Ubisoft                                   496\n",
       "Activision                                492\n",
       "Sony Computer Entertainment               315\n",
       "THQ                                       307\n",
       "Nintendo                                  291\n",
       "Sega                                      284\n",
       "Take-Two Interactive                      272\n",
       "Konami Digital Entertainment              244\n",
       "Namco Bandai Games                        239\n",
       "Capcom                                    197\n",
       "Atari                                     176\n",
       "Microsoft Game Studios                    141\n",
       "Tecmo Koei                                137\n",
       "Square Enix                               134\n",
       "Warner Bros. Interactive Entertainment    130\n",
       "Eidos Interactive                         123\n",
       "Vivendi Games                             113\n",
       "Codemasters                               111\n",
       "Midway Games                              103\n",
       "505 Games                                  80\n",
       "Deep Silver                                76\n",
       "Disney Interactive Studios                 74\n",
       "LucasArts                                  70\n",
       "Acclaim Entertainment                      66\n",
       "Nippon Ichi Software                       60\n",
       "Rising Star Games                          52\n",
       "Bethesda Softworks                         46\n",
       "D3Publisher                                35\n",
       "Focus Home Interactive                     31\n",
       "Ignition Entertainment                     30\n",
       "Empire Interactive                         27\n",
       "Atlus                                      25\n",
       "Unknown                                    24\n",
       "Zoo Digital Publishing                     24\n",
       "Majesco Entertainment                      23\n",
       "Kalypso Media                              22\n",
       "PQube                                      22\n",
       "SouthPeak Games                            21\n",
       "TDK Mediactive                             21\n",
       "Global Star                                20\n",
       "Virgin Interactive                         19\n",
       "Universal Interactive                      18\n",
       "MTV Games                                  16\n",
       "3DO                                        15\n",
       "Infogrames                                 14\n",
       "Paradox Interactive                        12\n",
       "Ubisoft Annecy                             12\n",
       "DTP Entertainment                          12\n",
       "SCi                                        11\n",
       "Name: Publisher, dtype: int64"
      ]
     },
     "execution_count": 36,
     "metadata": {},
     "output_type": "execute_result"
    },
    {
     "data": {
      "application/javascript": [
       "\n",
       "            setTimeout(function() {\n",
       "                var nbb_cell_id = 36;\n",
       "                var nbb_unformatted_code = \"df.Publisher.value_counts().head(50)\";\n",
       "                var nbb_formatted_code = \"df.Publisher.value_counts().head(50)\";\n",
       "                var nbb_cells = Jupyter.notebook.get_cells();\n",
       "                for (var i = 0; i < nbb_cells.length; ++i) {\n",
       "                    if (nbb_cells[i].input_prompt_number == nbb_cell_id) {\n",
       "                        if (nbb_cells[i].get_text() == nbb_unformatted_code) {\n",
       "                             nbb_cells[i].set_text(nbb_formatted_code);\n",
       "                        }\n",
       "                        break;\n",
       "                    }\n",
       "                }\n",
       "            }, 500);\n",
       "            "
      ],
      "text/plain": [
       "<IPython.core.display.Javascript object>"
      ]
     },
     "metadata": {},
     "output_type": "display_data"
    }
   ],
   "source": [
    "df.Publisher.value_counts().head(50)"
   ]
  },
  {
   "cell_type": "code",
   "execution_count": 37,
   "metadata": {},
   "outputs": [
    {
     "data": {
      "application/javascript": [
       "\n",
       "            setTimeout(function() {\n",
       "                var nbb_cell_id = 37;\n",
       "                var nbb_unformatted_code = \"other_list = []\\nfor i in range(df_cats.Publisher.nunique()):\\n    if df_cats['Publisher'].value_counts()[i] <=11:\\n        other_list.append(df_cats.Publisher.value_counts().index[i])\";\n",
       "                var nbb_formatted_code = \"other_list = []\\nfor i in range(df_cats.Publisher.nunique()):\\n    if df_cats[\\\"Publisher\\\"].value_counts()[i] <= 11:\\n        other_list.append(df_cats.Publisher.value_counts().index[i])\";\n",
       "                var nbb_cells = Jupyter.notebook.get_cells();\n",
       "                for (var i = 0; i < nbb_cells.length; ++i) {\n",
       "                    if (nbb_cells[i].input_prompt_number == nbb_cell_id) {\n",
       "                        if (nbb_cells[i].get_text() == nbb_unformatted_code) {\n",
       "                             nbb_cells[i].set_text(nbb_formatted_code);\n",
       "                        }\n",
       "                        break;\n",
       "                    }\n",
       "                }\n",
       "            }, 500);\n",
       "            "
      ],
      "text/plain": [
       "<IPython.core.display.Javascript object>"
      ]
     },
     "metadata": {},
     "output_type": "display_data"
    }
   ],
   "source": [
    "other_list = []\n",
    "for i in range(df_cats.Publisher.nunique()):\n",
    "    if df_cats['Publisher'].value_counts()[i] <=11:\n",
    "        other_list.append(df_cats.Publisher.value_counts().index[i])\n"
   ]
  },
  {
   "cell_type": "code",
   "execution_count": 38,
   "metadata": {},
   "outputs": [
    {
     "data": {
      "application/javascript": [
       "\n",
       "            setTimeout(function() {\n",
       "                var nbb_cell_id = 38;\n",
       "                var nbb_unformatted_code = \"df.loc[df[\\\"Publisher\\\"].isin(other_list), \\\"Publisher\\\"] = \\\"Other\\\"\";\n",
       "                var nbb_formatted_code = \"df.loc[df[\\\"Publisher\\\"].isin(other_list), \\\"Publisher\\\"] = \\\"Other\\\"\";\n",
       "                var nbb_cells = Jupyter.notebook.get_cells();\n",
       "                for (var i = 0; i < nbb_cells.length; ++i) {\n",
       "                    if (nbb_cells[i].input_prompt_number == nbb_cell_id) {\n",
       "                        if (nbb_cells[i].get_text() == nbb_unformatted_code) {\n",
       "                             nbb_cells[i].set_text(nbb_formatted_code);\n",
       "                        }\n",
       "                        break;\n",
       "                    }\n",
       "                }\n",
       "            }, 500);\n",
       "            "
      ],
      "text/plain": [
       "<IPython.core.display.Javascript object>"
      ]
     },
     "metadata": {},
     "output_type": "display_data"
    }
   ],
   "source": [
    "df.loc[df[\"Publisher\"].isin(other_list), \"Publisher\"] = \"Other\""
   ]
  },
  {
   "cell_type": "code",
   "execution_count": 39,
   "metadata": {},
   "outputs": [
    {
     "data": {
      "text/plain": [
       "50"
      ]
     },
     "execution_count": 39,
     "metadata": {},
     "output_type": "execute_result"
    },
    {
     "data": {
      "application/javascript": [
       "\n",
       "            setTimeout(function() {\n",
       "                var nbb_cell_id = 39;\n",
       "                var nbb_unformatted_code = \"df[\\\"Publisher\\\"].nunique()\";\n",
       "                var nbb_formatted_code = \"df[\\\"Publisher\\\"].nunique()\";\n",
       "                var nbb_cells = Jupyter.notebook.get_cells();\n",
       "                for (var i = 0; i < nbb_cells.length; ++i) {\n",
       "                    if (nbb_cells[i].input_prompt_number == nbb_cell_id) {\n",
       "                        if (nbb_cells[i].get_text() == nbb_unformatted_code) {\n",
       "                             nbb_cells[i].set_text(nbb_formatted_code);\n",
       "                        }\n",
       "                        break;\n",
       "                    }\n",
       "                }\n",
       "            }, 500);\n",
       "            "
      ],
      "text/plain": [
       "<IPython.core.display.Javascript object>"
      ]
     },
     "metadata": {},
     "output_type": "display_data"
    }
   ],
   "source": [
    "df[\"Publisher\"].nunique()"
   ]
  },
  {
   "cell_type": "code",
   "execution_count": 40,
   "metadata": {
    "scrolled": true
   },
   "outputs": [
    {
     "data": {
      "text/plain": [
       "Electronic Arts                           944\n",
       "Other                                     606\n",
       "Ubisoft                                   496\n",
       "Activision                                492\n",
       "Sony Computer Entertainment               315\n",
       "THQ                                       307\n",
       "Nintendo                                  291\n",
       "Sega                                      284\n",
       "Take-Two Interactive                      272\n",
       "Konami Digital Entertainment              244\n",
       "Namco Bandai Games                        239\n",
       "Capcom                                    197\n",
       "Atari                                     176\n",
       "Microsoft Game Studios                    141\n",
       "Tecmo Koei                                137\n",
       "Square Enix                               134\n",
       "Warner Bros. Interactive Entertainment    130\n",
       "Eidos Interactive                         123\n",
       "Vivendi Games                             113\n",
       "Codemasters                               111\n",
       "Midway Games                              103\n",
       "505 Games                                  80\n",
       "Deep Silver                                76\n",
       "Disney Interactive Studios                 74\n",
       "LucasArts                                  70\n",
       "Acclaim Entertainment                      66\n",
       "Nippon Ichi Software                       60\n",
       "Rising Star Games                          52\n",
       "Bethesda Softworks                         46\n",
       "D3Publisher                                35\n",
       "Focus Home Interactive                     31\n",
       "Ignition Entertainment                     30\n",
       "Empire Interactive                         27\n",
       "Atlus                                      25\n",
       "Unknown                                    24\n",
       "Zoo Digital Publishing                     24\n",
       "Majesco Entertainment                      23\n",
       "PQube                                      22\n",
       "Kalypso Media                              22\n",
       "SouthPeak Games                            21\n",
       "TDK Mediactive                             21\n",
       "Global Star                                20\n",
       "Virgin Interactive                         19\n",
       "Universal Interactive                      18\n",
       "MTV Games                                  16\n",
       "3DO                                        15\n",
       "Infogrames                                 14\n",
       "Ubisoft Annecy                             12\n",
       "DTP Entertainment                          12\n",
       "Paradox Interactive                        12\n",
       "Name: Publisher, dtype: int64"
      ]
     },
     "execution_count": 40,
     "metadata": {},
     "output_type": "execute_result"
    },
    {
     "data": {
      "application/javascript": [
       "\n",
       "            setTimeout(function() {\n",
       "                var nbb_cell_id = 40;\n",
       "                var nbb_unformatted_code = \"df.Publisher.value_counts()\";\n",
       "                var nbb_formatted_code = \"df.Publisher.value_counts()\";\n",
       "                var nbb_cells = Jupyter.notebook.get_cells();\n",
       "                for (var i = 0; i < nbb_cells.length; ++i) {\n",
       "                    if (nbb_cells[i].input_prompt_number == nbb_cell_id) {\n",
       "                        if (nbb_cells[i].get_text() == nbb_unformatted_code) {\n",
       "                             nbb_cells[i].set_text(nbb_formatted_code);\n",
       "                        }\n",
       "                        break;\n",
       "                    }\n",
       "                }\n",
       "            }, 500);\n",
       "            "
      ],
      "text/plain": [
       "<IPython.core.display.Javascript object>"
      ]
     },
     "metadata": {},
     "output_type": "display_data"
    }
   ],
   "source": [
    "df.Publisher.value_counts()"
   ]
  },
  {
   "cell_type": "code",
   "execution_count": 41,
   "metadata": {},
   "outputs": [
    {
     "data": {
      "image/png": "[encoded data removed]",
      "text/plain": [
       "<Figure size 432x288 with 1 Axes>"
      ]
     },
     "metadata": {
      "needs_background": "light"
     },
     "output_type": "display_data"
    },
    {
     "data": {
      "application/javascript": [
       "\n",
       "            setTimeout(function() {\n",
       "                var nbb_cell_id = 41;\n",
       "                var nbb_unformatted_code = \"plt.hist(df.Developer.value_counts(), bins=50)\\nplt.show()\";\n",
       "                var nbb_formatted_code = \"plt.hist(df.Developer.value_counts(), bins=50)\\nplt.show()\";\n",
       "                var nbb_cells = Jupyter.notebook.get_cells();\n",
       "                for (var i = 0; i < nbb_cells.length; ++i) {\n",
       "                    if (nbb_cells[i].input_prompt_number == nbb_cell_id) {\n",
       "                        if (nbb_cells[i].get_text() == nbb_unformatted_code) {\n",
       "                             nbb_cells[i].set_text(nbb_formatted_code);\n",
       "                        }\n",
       "                        break;\n",
       "                    }\n",
       "                }\n",
       "            }, 500);\n",
       "            "
      ],
      "text/plain": [
       "<IPython.core.display.Javascript object>"
      ]
     },
     "metadata": {},
     "output_type": "display_data"
    }
   ],
   "source": [
    "plt.hist(df.Developer.value_counts(), bins=50)\n",
    "plt.show()"
   ]
  },
  {
   "cell_type": "code",
   "execution_count": 42,
   "metadata": {},
   "outputs": [
    {
     "data": {
      "application/javascript": [
       "\n",
       "            setTimeout(function() {\n",
       "                var nbb_cell_id = 42;\n",
       "                var nbb_unformatted_code = \"other_list = []\\nfor i in range(df_cats.Developer.nunique()):\\n    if df_cats[\\\"Developer\\\"].value_counts()[i] <= 22:\\n        other_list.append(df_cats.Developer.value_counts().index[i])\";\n",
       "                var nbb_formatted_code = \"other_list = []\\nfor i in range(df_cats.Developer.nunique()):\\n    if df_cats[\\\"Developer\\\"].value_counts()[i] <= 22:\\n        other_list.append(df_cats.Developer.value_counts().index[i])\";\n",
       "                var nbb_cells = Jupyter.notebook.get_cells();\n",
       "                for (var i = 0; i < nbb_cells.length; ++i) {\n",
       "                    if (nbb_cells[i].input_prompt_number == nbb_cell_id) {\n",
       "                        if (nbb_cells[i].get_text() == nbb_unformatted_code) {\n",
       "                             nbb_cells[i].set_text(nbb_formatted_code);\n",
       "                        }\n",
       "                        break;\n",
       "                    }\n",
       "                }\n",
       "            }, 500);\n",
       "            "
      ],
      "text/plain": [
       "<IPython.core.display.Javascript object>"
      ]
     },
     "metadata": {},
     "output_type": "display_data"
    }
   ],
   "source": [
    "other_list = []\n",
    "for i in range(df_cats.Developer.nunique()):\n",
    "    if df_cats[\"Developer\"].value_counts()[i] <= 22:\n",
    "        other_list.append(df_cats.Developer.value_counts().index[i])"
   ]
  },
  {
   "cell_type": "code",
   "execution_count": 43,
   "metadata": {},
   "outputs": [
    {
     "data": {
      "application/javascript": [
       "\n",
       "            setTimeout(function() {\n",
       "                var nbb_cell_id = 43;\n",
       "                var nbb_unformatted_code = \"df.loc[df[\\\"Developer\\\"].isin(other_list), \\\"Developer\\\"] = \\\"Other\\\"\";\n",
       "                var nbb_formatted_code = \"df.loc[df[\\\"Developer\\\"].isin(other_list), \\\"Developer\\\"] = \\\"Other\\\"\";\n",
       "                var nbb_cells = Jupyter.notebook.get_cells();\n",
       "                for (var i = 0; i < nbb_cells.length; ++i) {\n",
       "                    if (nbb_cells[i].input_prompt_number == nbb_cell_id) {\n",
       "                        if (nbb_cells[i].get_text() == nbb_unformatted_code) {\n",
       "                             nbb_cells[i].set_text(nbb_formatted_code);\n",
       "                        }\n",
       "                        break;\n",
       "                    }\n",
       "                }\n",
       "            }, 500);\n",
       "            "
      ],
      "text/plain": [
       "<IPython.core.display.Javascript object>"
      ]
     },
     "metadata": {},
     "output_type": "display_data"
    }
   ],
   "source": [
    "df.loc[df[\"Developer\"].isin(other_list), \"Developer\"] = \"Other\""
   ]
  },
  {
   "cell_type": "code",
   "execution_count": 44,
   "metadata": {
    "scrolled": true
   },
   "outputs": [
    {
     "data": {
      "text/plain": [
       "Other                             4559\n",
       "EA Canada                          149\n",
       "EA Sports                          142\n",
       "Capcom                             126\n",
       "Ubisoft                            103\n",
       "Konami                              95\n",
       "Ubisoft Montreal                    87\n",
       "EA Tiburon                          82\n",
       "Omega Force                         69\n",
       "Nintendo                            68\n",
       "Visual Concepts                     68\n",
       "Electronic Arts                     67\n",
       "Traveller's Tales                   59\n",
       "Codemasters                         57\n",
       "Vicarious Visions                   57\n",
       "Namco                               55\n",
       "Yuke's                              48\n",
       "TT Games                            43\n",
       "Midway                              42\n",
       "Maxis                               42\n",
       "Neversoft Entertainment             42\n",
       "Treyarch                            41\n",
       "From Software                       41\n",
       "Eurocom Entertainment Software      40\n",
       "Square Enix                         39\n",
       "Sonic Team                          35\n",
       "TOSE                                34\n",
       "Radical Entertainment               33\n",
       "Arc System Works                    32\n",
       "Sega                                32\n",
       "Rebellion                           30\n",
       "High Voltage Software               30\n",
       "Artificial Mind and Movement        29\n",
       "Harmonix Music Systems              28\n",
       "Koei                                27\n",
       "Gearbox Software                    26\n",
       "Climax Group                        26\n",
       "Rainbow Studios                     25\n",
       "SCEA San Diego Studios              25\n",
       "KCET                                24\n",
       "EA Games                            24\n",
       "EA DICE                             24\n",
       "Krome Studios                       24\n",
       "Criterion Games                     24\n",
       "Ubisoft Shanghai                    23\n",
       "Griptonite Games                    23\n",
       "Acclaim                             23\n",
       "Name: Developer, dtype: int64"
      ]
     },
     "execution_count": 44,
     "metadata": {},
     "output_type": "execute_result"
    },
    {
     "data": {
      "application/javascript": [
       "\n",
       "            setTimeout(function() {\n",
       "                var nbb_cell_id = 44;\n",
       "                var nbb_unformatted_code = \"df.Developer.value_counts().head(50)\";\n",
       "                var nbb_formatted_code = \"df.Developer.value_counts().head(50)\";\n",
       "                var nbb_cells = Jupyter.notebook.get_cells();\n",
       "                for (var i = 0; i < nbb_cells.length; ++i) {\n",
       "                    if (nbb_cells[i].input_prompt_number == nbb_cell_id) {\n",
       "                        if (nbb_cells[i].get_text() == nbb_unformatted_code) {\n",
       "                             nbb_cells[i].set_text(nbb_formatted_code);\n",
       "                        }\n",
       "                        break;\n",
       "                    }\n",
       "                }\n",
       "            }, 500);\n",
       "            "
      ],
      "text/plain": [
       "<IPython.core.display.Javascript object>"
      ]
     },
     "metadata": {},
     "output_type": "display_data"
    }
   ],
   "source": [
    "df.Developer.value_counts().head(50)"
   ]
  },
  {
   "cell_type": "markdown",
   "metadata": {},
   "source": [
    "Prepare to split data and start prepocessing"
   ]
  },
  {
   "cell_type": "code",
   "execution_count": 49,
   "metadata": {},
   "outputs": [
    {
     "data": {
      "application/javascript": [
       "\n",
       "            setTimeout(function() {\n",
       "                var nbb_cell_id = 49;\n",
       "                var nbb_unformatted_code = \"df_999_G = df.iloc[in_perc_999.values]\";\n",
       "                var nbb_formatted_code = \"df_999_G = df.iloc[in_perc_999.values]\";\n",
       "                var nbb_cells = Jupyter.notebook.get_cells();\n",
       "                for (var i = 0; i < nbb_cells.length; ++i) {\n",
       "                    if (nbb_cells[i].input_prompt_number == nbb_cell_id) {\n",
       "                        if (nbb_cells[i].get_text() == nbb_unformatted_code) {\n",
       "                             nbb_cells[i].set_text(nbb_formatted_code);\n",
       "                        }\n",
       "                        break;\n",
       "                    }\n",
       "                }\n",
       "            }, 500);\n",
       "            "
      ],
      "text/plain": [
       "<IPython.core.display.Javascript object>"
      ]
     },
     "metadata": {},
     "output_type": "display_data"
    }
   ],
   "source": [
    "df_999_G = df.iloc[in_perc_999.values]"
   ]
  },
  {
   "cell_type": "markdown",
   "metadata": {},
   "source": [
    "* another Check to see if removing outliers will help performance\n",
    "    * the model performed worse again"
   ]
  },
  {
   "cell_type": "code",
   "execution_count": 50,
   "metadata": {},
   "outputs": [
    {
     "data": {
      "application/javascript": [
       "\n",
       "            setTimeout(function() {\n",
       "                var nbb_cell_id = 50;\n",
       "                var nbb_unformatted_code = \"drop_cols = [\\n    \\\"Name\\\",\\n    \\\"NA_Sales\\\",\\n    \\\"Global_Sales\\\",\\n    \\\"EU_Sales\\\",\\n    \\\"JP_Sales\\\",\\n    \\\"Other_Sales\\\",\\n    \\\"Global_Sales\\\",\\n    #    \\\"Publisher\\\",\\n    #     \\\"Developer\\\",\\n    \\\"log_Global_Sales\\\",\\n    \\\"log_NA_Sales\\\",\\n    \\\"User_Score\\\",\\n    #     \\\"User_Count\\\",\\n    \\\"User_Combo\\\",\\n    \\\"Critic_Count\\\",\\n    \\\"Critic_Score\\\",\\n    #     \\\"Critic_Combo\\\",\\n]\\n\\n# X = df_999_G.drop(columns=drop_cols)\\n# y = df_999_G[\\\"log_Global_Sales\\\"]\\n# y = df[\\\"Global_Sales\\\"]\\n\\nX = df.drop(columns=drop_cols)\\ny = df[\\\"log_Global_Sales\\\"]\";\n",
       "                var nbb_formatted_code = \"drop_cols = [\\n    \\\"Name\\\",\\n    \\\"NA_Sales\\\",\\n    \\\"Global_Sales\\\",\\n    \\\"EU_Sales\\\",\\n    \\\"JP_Sales\\\",\\n    \\\"Other_Sales\\\",\\n    \\\"Global_Sales\\\",\\n    #    \\\"Publisher\\\",\\n    #     \\\"Developer\\\",\\n    \\\"log_Global_Sales\\\",\\n    \\\"log_NA_Sales\\\",\\n    \\\"User_Score\\\",\\n    #     \\\"User_Count\\\",\\n    \\\"User_Combo\\\",\\n    \\\"Critic_Count\\\",\\n    \\\"Critic_Score\\\",\\n    #     \\\"Critic_Combo\\\",\\n]\\n\\n# X = df_999_G.drop(columns=drop_cols)\\n# y = df_999_G[\\\"log_Global_Sales\\\"]\\n# y = df[\\\"Global_Sales\\\"]\\n\\nX = df.drop(columns=drop_cols)\\ny = df[\\\"log_Global_Sales\\\"]\";\n",
       "                var nbb_cells = Jupyter.notebook.get_cells();\n",
       "                for (var i = 0; i < nbb_cells.length; ++i) {\n",
       "                    if (nbb_cells[i].input_prompt_number == nbb_cell_id) {\n",
       "                        if (nbb_cells[i].get_text() == nbb_unformatted_code) {\n",
       "                             nbb_cells[i].set_text(nbb_formatted_code);\n",
       "                        }\n",
       "                        break;\n",
       "                    }\n",
       "                }\n",
       "            }, 500);\n",
       "            "
      ],
      "text/plain": [
       "<IPython.core.display.Javascript object>"
      ]
     },
     "metadata": {},
     "output_type": "display_data"
    }
   ],
   "source": [
    "drop_cols = [\n",
    "    \"Name\",\n",
    "    \"NA_Sales\",\n",
    "    \"Global_Sales\",\n",
    "    \"EU_Sales\",\n",
    "    \"JP_Sales\",\n",
    "    \"Other_Sales\",\n",
    "    \"Global_Sales\",\n",
    "    #    \"Publisher\",\n",
    "    #     \"Developer\",\n",
    "    \"log_Global_Sales\",\n",
    "    \"log_NA_Sales\",\n",
    "    \"User_Score\",\n",
    "    #     \"User_Count\",\n",
    "    \"User_Combo\",\n",
    "    \"Critic_Count\",\n",
    "    \"Critic_Score\",\n",
    "    #     \"Critic_Combo\",\n",
    "]\n",
    "\n",
    "# X = df_999_G.drop(columns=drop_cols)\n",
    "# y = df_999_G[\"log_Global_Sales\"]\n",
    "# y = df[\"Global_Sales\"]\n",
    "\n",
    "X = df.drop(columns=drop_cols)\n",
    "y = df[\"log_Global_Sales\"]\n",
    "\n"
   ]
  },
  {
   "cell_type": "markdown",
   "metadata": {},
   "source": [
    "Train/Test split the data by 20% in the test group"
   ]
  },
  {
   "cell_type": "code",
   "execution_count": 51,
   "metadata": {},
   "outputs": [
    {
     "data": {
      "application/javascript": [
       "\n",
       "            setTimeout(function() {\n",
       "                var nbb_cell_id = 51;\n",
       "                var nbb_unformatted_code = \"X_train, X_test, y_train, y_test = train_test_split(\\n    X, y, test_size=0.2, random_state=42, stratify=X.Rating\\n)\";\n",
       "                var nbb_formatted_code = \"X_train, X_test, y_train, y_test = train_test_split(\\n    X, y, test_size=0.2, random_state=42, stratify=X.Rating\\n)\";\n",
       "                var nbb_cells = Jupyter.notebook.get_cells();\n",
       "                for (var i = 0; i < nbb_cells.length; ++i) {\n",
       "                    if (nbb_cells[i].input_prompt_number == nbb_cell_id) {\n",
       "                        if (nbb_cells[i].get_text() == nbb_unformatted_code) {\n",
       "                             nbb_cells[i].set_text(nbb_formatted_code);\n",
       "                        }\n",
       "                        break;\n",
       "                    }\n",
       "                }\n",
       "            }, 500);\n",
       "            "
      ],
      "text/plain": [
       "<IPython.core.display.Javascript object>"
      ]
     },
     "metadata": {},
     "output_type": "display_data"
    }
   ],
   "source": [
    "X_train, X_test, y_train, y_test = train_test_split(\n",
    "    X, y, test_size=0.2, random_state=42, stratify=X.Rating\n",
    ")"
   ]
  },
  {
   "cell_type": "markdown",
   "metadata": {},
   "source": [
    "Define the specific columns and cats for easy entry in the preprocessing and pipeline. "
   ]
  },
  {
   "cell_type": "code",
   "execution_count": 52,
   "metadata": {},
   "outputs": [
    {
     "data": {
      "application/javascript": [
       "\n",
       "            setTimeout(function() {\n",
       "                var nbb_cell_id = 52;\n",
       "                var nbb_unformatted_code = \"num_cols = [\\n    \\\"Year_of_Release\\\",\\n    \\\"User_Count\\\",\\n    #     \\\"User_Score\\\",\\n    #     \\\"User_Combo\\\",\\n    #     \\\"Critic_Count\\\",\\n    #     \\\"Critic_Score\\\",\\n    \\\"Critic_Combo\\\",\\n]\\nbin_cols = []\\ncat_cols = [\\\"Platform\\\", \\\"Genre\\\", \\\"Rating\\\", \\\"Publisher\\\", \\\"Developer\\\"]\\ndrop_cats = [\\\"PS4\\\", \\\"Sports\\\", \\\"E\\\", \\\"Other\\\", \\\"Other\\\"]\";\n",
       "                var nbb_formatted_code = \"num_cols = [\\n    \\\"Year_of_Release\\\",\\n    \\\"User_Count\\\",\\n    #     \\\"User_Score\\\",\\n    #     \\\"User_Combo\\\",\\n    #     \\\"Critic_Count\\\",\\n    #     \\\"Critic_Score\\\",\\n    \\\"Critic_Combo\\\",\\n]\\nbin_cols = []\\ncat_cols = [\\\"Platform\\\", \\\"Genre\\\", \\\"Rating\\\", \\\"Publisher\\\", \\\"Developer\\\"]\\ndrop_cats = [\\\"PS4\\\", \\\"Sports\\\", \\\"E\\\", \\\"Other\\\", \\\"Other\\\"]\";\n",
       "                var nbb_cells = Jupyter.notebook.get_cells();\n",
       "                for (var i = 0; i < nbb_cells.length; ++i) {\n",
       "                    if (nbb_cells[i].input_prompt_number == nbb_cell_id) {\n",
       "                        if (nbb_cells[i].get_text() == nbb_unformatted_code) {\n",
       "                             nbb_cells[i].set_text(nbb_formatted_code);\n",
       "                        }\n",
       "                        break;\n",
       "                    }\n",
       "                }\n",
       "            }, 500);\n",
       "            "
      ],
      "text/plain": [
       "<IPython.core.display.Javascript object>"
      ]
     },
     "metadata": {},
     "output_type": "display_data"
    }
   ],
   "source": [
    "num_cols = [\n",
    "    \"Year_of_Release\",\n",
    "    \"User_Count\",\n",
    "    #     \"User_Score\",\n",
    "    #     \"User_Combo\",\n",
    "    #     \"Critic_Count\",\n",
    "    #     \"Critic_Score\",\n",
    "    \"Critic_Combo\",\n",
    "]\n",
    "bin_cols = []\n",
    "cat_cols = [\"Platform\", \"Genre\", \"Rating\", \"Publisher\", \"Developer\"]\n",
    "drop_cats = [\"PS4\", \"Sports\", \"E\", \"Other\", \"Other\"]"
   ]
  },
  {
   "cell_type": "markdown",
   "metadata": {},
   "source": [
    "## XGBoost Regression Model"
   ]
  },
  {
   "cell_type": "markdown",
   "metadata": {},
   "source": [
    "In this model the parameters are fine tuned in iterations. Each run works with parameter values surrounding the best parameters found via grid search in the previous iteration, when applicable, until the returned best parameter values stop changing."
   ]
  },
  {
   "cell_type": "code",
   "execution_count": 53,
   "metadata": {},
   "outputs": [
    {
     "data": {
      "application/javascript": [
       "\n",
       "            setTimeout(function() {\n",
       "                var nbb_cell_id = 53;\n",
       "                var nbb_unformatted_code = \"# fmt: off\\npreprocessing = ColumnTransformer([\\n    (\\\"scale\\\", StandardScaler(), num_cols), # scaling\\n    (\\\"encode_cats\\\", OneHotEncoder(drop=drop_cats), cat_cols), # dummy encoding\\n], remainder=\\\"passthrough\\\")\";\n",
       "                var nbb_formatted_code = \"# fmt: off\\npreprocessing = ColumnTransformer([\\n    (\\\"scale\\\", StandardScaler(), num_cols), # scaling\\n    (\\\"encode_cats\\\", OneHotEncoder(drop=drop_cats), cat_cols), # dummy encoding\\n], remainder=\\\"passthrough\\\")\";\n",
       "                var nbb_cells = Jupyter.notebook.get_cells();\n",
       "                for (var i = 0; i < nbb_cells.length; ++i) {\n",
       "                    if (nbb_cells[i].input_prompt_number == nbb_cell_id) {\n",
       "                        if (nbb_cells[i].get_text() == nbb_unformatted_code) {\n",
       "                             nbb_cells[i].set_text(nbb_formatted_code);\n",
       "                        }\n",
       "                        break;\n",
       "                    }\n",
       "                }\n",
       "            }, 500);\n",
       "            "
      ],
      "text/plain": [
       "<IPython.core.display.Javascript object>"
      ]
     },
     "metadata": {},
     "output_type": "display_data"
    }
   ],
   "source": [
    "# fmt: off\n",
    "preprocessing = ColumnTransformer([\n",
    "    (\"scale\", StandardScaler(), num_cols), # scaling\n",
    "    (\"encode_cats\", OneHotEncoder(drop=drop_cats), cat_cols), # dummy encoding\n",
    "], remainder=\"passthrough\")"
   ]
  },
  {
   "cell_type": "code",
   "execution_count": 54,
   "metadata": {},
   "outputs": [
    {
     "data": {
      "application/javascript": [
       "\n",
       "            setTimeout(function() {\n",
       "                var nbb_cell_id = 54;\n",
       "                var nbb_unformatted_code = \"# fmt: off\\nparams = {\\n#     \\\"model__subsample\\\": [ 0.65, 0.75, .8, 1],\\n    \\\"model__subsample\\\": [0.4, 0.5, 0.65, 1.0],\\n#     \\\"model__colsample_bytree\\\": [ 0.75, 0.85, .90, 1],\\n    \\\"model__colsample_bytree\\\": [ 0.5, 0.75,  1.0],\\n    \\\"model__max_depth\\\": [7, 8, 9, 10],\\n#     \\\"model__max_depth\\\": [ 14, 18, 20],\\n}\\nn_trees = 100\\nlearning_rate = 2 / n_trees\";\n",
       "                var nbb_formatted_code = \"# fmt: off\\nparams = {\\n#     \\\"model__subsample\\\": [ 0.65, 0.75, .8, 1],\\n    \\\"model__subsample\\\": [0.4, 0.5, 0.65, 1.0],\\n#     \\\"model__colsample_bytree\\\": [ 0.75, 0.85, .90, 1],\\n    \\\"model__colsample_bytree\\\": [ 0.5, 0.75,  1.0],\\n    \\\"model__max_depth\\\": [7, 8, 9, 10],\\n#     \\\"model__max_depth\\\": [ 14, 18, 20],\\n}\\nn_trees = 100\\nlearning_rate = 2 / n_trees\";\n",
       "                var nbb_cells = Jupyter.notebook.get_cells();\n",
       "                for (var i = 0; i < nbb_cells.length; ++i) {\n",
       "                    if (nbb_cells[i].input_prompt_number == nbb_cell_id) {\n",
       "                        if (nbb_cells[i].get_text() == nbb_unformatted_code) {\n",
       "                             nbb_cells[i].set_text(nbb_formatted_code);\n",
       "                        }\n",
       "                        break;\n",
       "                    }\n",
       "                }\n",
       "            }, 500);\n",
       "            "
      ],
      "text/plain": [
       "<IPython.core.display.Javascript object>"
      ]
     },
     "metadata": {},
     "output_type": "display_data"
    }
   ],
   "source": [
    "# fmt: off\n",
    "params = {\n",
    "#     \"model__subsample\": [ 0.65, 0.75, .8, 1],\n",
    "    \"model__subsample\": [0.4, 0.5, 0.65, 1.0],\n",
    "#     \"model__colsample_bytree\": [ 0.75, 0.85, .90, 1],\n",
    "    \"model__colsample_bytree\": [ 0.5, 0.75,  1.0],\n",
    "    \"model__max_depth\": [7, 8, 9, 10],\n",
    "#     \"model__max_depth\": [ 14, 18, 20],\n",
    "}\n",
    "n_trees = 100\n",
    "learning_rate = 2 / n_trees"
   ]
  },
  {
   "cell_type": "code",
   "execution_count": 55,
   "metadata": {},
   "outputs": [
    {
     "data": {
      "application/javascript": [
       "\n",
       "            setTimeout(function() {\n",
       "                var nbb_cell_id = 55;\n",
       "                var nbb_unformatted_code = \"pipeline = Pipeline(\\n    [\\n        (\\\"preprocessing\\\", preprocessing),\\n        (\\\"model\\\", XGBRegressor(n_estimators=n_trees, learning_rate=learning_rate)),\\n    ]\\n)\";\n",
       "                var nbb_formatted_code = \"pipeline = Pipeline(\\n    [\\n        (\\\"preprocessing\\\", preprocessing),\\n        (\\\"model\\\", XGBRegressor(n_estimators=n_trees, learning_rate=learning_rate)),\\n    ]\\n)\";\n",
       "                var nbb_cells = Jupyter.notebook.get_cells();\n",
       "                for (var i = 0; i < nbb_cells.length; ++i) {\n",
       "                    if (nbb_cells[i].input_prompt_number == nbb_cell_id) {\n",
       "                        if (nbb_cells[i].get_text() == nbb_unformatted_code) {\n",
       "                             nbb_cells[i].set_text(nbb_formatted_code);\n",
       "                        }\n",
       "                        break;\n",
       "                    }\n",
       "                }\n",
       "            }, 500);\n",
       "            "
      ],
      "text/plain": [
       "<IPython.core.display.Javascript object>"
      ]
     },
     "metadata": {},
     "output_type": "display_data"
    }
   ],
   "source": [
    "pipeline = Pipeline(\n",
    "    [\n",
    "        (\"preprocessing\", preprocessing),\n",
    "        (\"model\", XGBRegressor(n_estimators=n_trees, learning_rate=learning_rate)),\n",
    "    ]\n",
    ")"
   ]
  },
  {
   "cell_type": "code",
   "execution_count": 56,
   "metadata": {},
   "outputs": [
    {
     "data": {
      "application/javascript": [
       "\n",
       "            setTimeout(function() {\n",
       "                var nbb_cell_id = 56;\n",
       "                var nbb_unformatted_code = \"pipeline_cv = GridSearchCV(pipeline, params, verbose=1, n_jobs=-1, cv=2)\";\n",
       "                var nbb_formatted_code = \"pipeline_cv = GridSearchCV(pipeline, params, verbose=1, n_jobs=-1, cv=2)\";\n",
       "                var nbb_cells = Jupyter.notebook.get_cells();\n",
       "                for (var i = 0; i < nbb_cells.length; ++i) {\n",
       "                    if (nbb_cells[i].input_prompt_number == nbb_cell_id) {\n",
       "                        if (nbb_cells[i].get_text() == nbb_unformatted_code) {\n",
       "                             nbb_cells[i].set_text(nbb_formatted_code);\n",
       "                        }\n",
       "                        break;\n",
       "                    }\n",
       "                }\n",
       "            }, 500);\n",
       "            "
      ],
      "text/plain": [
       "<IPython.core.display.Javascript object>"
      ]
     },
     "metadata": {},
     "output_type": "display_data"
    }
   ],
   "source": [
    "pipeline_cv = GridSearchCV(pipeline, params, verbose=1, n_jobs=-1, cv=2)"
   ]
  },
  {
   "cell_type": "code",
   "execution_count": 76,
   "metadata": {
    "scrolled": true
   },
   "outputs": [
    {
     "name": "stdout",
     "output_type": "stream",
     "text": [
      "Fitting 2 folds for each of 48 candidates, totalling 96 fits\n"
     ]
    },
    {
     "name": "stderr",
     "output_type": "stream",
     "text": [
      "[Parallel(n_jobs=-1)]: Using backend LokyBackend with 4 concurrent workers.\n",
      "[Parallel(n_jobs=-1)]: Done  42 tasks      | elapsed:   21.4s\n",
      "[Parallel(n_jobs=-1)]: Done  96 out of  96 | elapsed:   53.5s finished\n"
     ]
    },
    {
     "name": "stdout",
     "output_type": "stream",
     "text": [
      "Train Score: 0.7773889100935761\n",
      "Test Score: 0.5785640868000266\n"
     ]
    },
    {
     "data": {
      "application/javascript": [
       "\n",
       "            setTimeout(function() {\n",
       "                var nbb_cell_id = 76;\n",
       "                var nbb_unformatted_code = \"pipeline_cv.fit(X_train, y_train)\\n\\nprint(f\\\"Train Score: {pipeline_cv.score(X_train, y_train)}\\\")\\nprint(f\\\"Test Score: {pipeline_cv.score(X_test, y_test)}\\\")\";\n",
       "                var nbb_formatted_code = \"pipeline_cv.fit(X_train, y_train)\\n\\nprint(f\\\"Train Score: {pipeline_cv.score(X_train, y_train)}\\\")\\nprint(f\\\"Test Score: {pipeline_cv.score(X_test, y_test)}\\\")\";\n",
       "                var nbb_cells = Jupyter.notebook.get_cells();\n",
       "                for (var i = 0; i < nbb_cells.length; ++i) {\n",
       "                    if (nbb_cells[i].input_prompt_number == nbb_cell_id) {\n",
       "                        if (nbb_cells[i].get_text() == nbb_unformatted_code) {\n",
       "                             nbb_cells[i].set_text(nbb_formatted_code);\n",
       "                        }\n",
       "                        break;\n",
       "                    }\n",
       "                }\n",
       "            }, 500);\n",
       "            "
      ],
      "text/plain": [
       "<IPython.core.display.Javascript object>"
      ]
     },
     "metadata": {},
     "output_type": "display_data"
    }
   ],
   "source": [
    "pipeline_cv.fit(X_train, y_train)\n",
    "\n",
    "print(f\"Train Score: {pipeline_cv.score(X_train, y_train)}\")\n",
    "print(f\"Test Score: {pipeline_cv.score(X_test, y_test)}\")"
   ]
  },
  {
   "cell_type": "markdown",
   "metadata": {},
   "source": [
    "* There is no real difference in the predicting 'NA_Sales' vs 'Global_Sales'.\n",
    "* Removing outliers in the Sales data only hurt the model.\n",
    "\n",
    "\n",
    "99th percentile\n",
    "* XGBOOST Regression: Params: {'model__colsample_bytree': 1,'model__max_depth': 10,'model__subsample': 0.75}\n",
    "Train Score: 0.7091890031893382\n",
    "Test Score: 0.5005489069929983\n",
    "\n",
    "99th percentile\n",
    "* XGBOOST Regression: Params: {'model__colsample_bytree': .85,'model__max_depth': 9,'model__subsample': 0.75}\n",
    "Train Score: 0.6709216221163665\n",
    "Test Score: 0.5014700261290725\n",
    "\n",
    "99th percentile\n",
    "* XGBOOST Regression: Params: {'model__colsample_bytree': .85,'model__max_depth': 8,'model__subsample': 0.75}\n",
    "Train Score: 0.6343650050335347\n",
    "Test Score: 0.5011677336836367\n",
    "\n",
    "100 percentile\n",
    "* XGBOOST Regression: Params: {'model__colsample_bytree': 1.0,'model__max_depth': 10,'model__subsample': 0.6}\n",
    "Train Score: 0.7917334440524151\n",
    "Test Score: 0.5429274948210776\n",
    "\n",
    "100 percentile\n",
    "* XGBOOST Regression: Params:{'model__colsample_bytree': 1.0, 'model__max_depth': 10, 'model__subsample': 0.5}\n",
    "Train Score: 0.7773889100935761\n",
    "Test Score: 0.5785640868000\n",
    "\n",
    "The Grid Search has a tendency to allow overfitting by going for higher max_depth. The best \"happy medium\" I can get for this model is around a max_depth of 10."
   ]
  },
  {
   "cell_type": "code",
   "execution_count": 82,
   "metadata": {},
   "outputs": [
    {
     "data": {
      "text/plain": [
       "{'model__colsample_bytree': 1.0,\n",
       " 'model__max_depth': 10,\n",
       " 'model__subsample': 0.5}"
      ]
     },
     "execution_count": 82,
     "metadata": {},
     "output_type": "execute_result"
    },
    {
     "data": {
      "application/javascript": [
       "\n",
       "            setTimeout(function() {\n",
       "                var nbb_cell_id = 82;\n",
       "                var nbb_unformatted_code = \"pipeline_cv.best_params_\";\n",
       "                var nbb_formatted_code = \"pipeline_cv.best_params_\";\n",
       "                var nbb_cells = Jupyter.notebook.get_cells();\n",
       "                for (var i = 0; i < nbb_cells.length; ++i) {\n",
       "                    if (nbb_cells[i].input_prompt_number == nbb_cell_id) {\n",
       "                        if (nbb_cells[i].get_text() == nbb_unformatted_code) {\n",
       "                             nbb_cells[i].set_text(nbb_formatted_code);\n",
       "                        }\n",
       "                        break;\n",
       "                    }\n",
       "                }\n",
       "            }, 500);\n",
       "            "
      ],
      "text/plain": [
       "<IPython.core.display.Javascript object>"
      ]
     },
     "metadata": {},
     "output_type": "display_data"
    }
   ],
   "source": [
    "pipeline_cv.best_params_"
   ]
  },
  {
   "cell_type": "code",
   "execution_count": 96,
   "metadata": {},
   "outputs": [
    {
     "name": "stdout",
     "output_type": "stream",
     "text": [
      "0.4419750520300961\n",
      "2.004829049479101\n"
     ]
    },
    {
     "data": {
      "application/javascript": [
       "\n",
       "            setTimeout(function() {\n",
       "                var nbb_cell_id = 96;\n",
       "                var nbb_unformatted_code = \"y_pred = pipeline_cv.predict(X_test)\\ny_pred_exp = np.exp(y_pred)-1\\ny_test_exp = np.exp(y_test)-1\\nMAE = np.mean(abs(y_test_exp-y_pred_exp))\\nMAPE = np.mean(abs((y_test_exp-y_pred_exp)/y_test_exp))\\nprint(MAE)\\nprint(MAPE)\";\n",
       "                var nbb_formatted_code = \"y_pred = pipeline_cv.predict(X_test)\\ny_pred_exp = np.exp(y_pred) - 1\\ny_test_exp = np.exp(y_test) - 1\\nMAE = np.mean(abs(y_test_exp - y_pred_exp))\\nMAPE = np.mean(abs((y_test_exp - y_pred_exp) / y_test_exp))\\nprint(MAE)\\nprint(MAPE)\";\n",
       "                var nbb_cells = Jupyter.notebook.get_cells();\n",
       "                for (var i = 0; i < nbb_cells.length; ++i) {\n",
       "                    if (nbb_cells[i].input_prompt_number == nbb_cell_id) {\n",
       "                        if (nbb_cells[i].get_text() == nbb_unformatted_code) {\n",
       "                             nbb_cells[i].set_text(nbb_formatted_code);\n",
       "                        }\n",
       "                        break;\n",
       "                    }\n",
       "                }\n",
       "            }, 500);\n",
       "            "
      ],
      "text/plain": [
       "<IPython.core.display.Javascript object>"
      ]
     },
     "metadata": {},
     "output_type": "display_data"
    }
   ],
   "source": [
    "y_pred = pipeline_cv.predict(X_test)\n",
    "y_pred_exp = np.exp(y_pred)-1\n",
    "y_test_exp = np.exp(y_test)-1\n",
    "MAE = np.mean(abs(y_test_exp-y_pred_exp))\n",
    "MAPE = np.mean(abs((y_test_exp-y_pred_exp)/y_test_exp))\n",
    "print(MAE)\n",
    "print(MAPE)\n"
   ]
  },
  {
   "cell_type": "code",
   "execution_count": 97,
   "metadata": {
    "scrolled": true
   },
   "outputs": [
    {
     "data": {
      "image/png": "[encoded data removed]",
      "text/plain": [
       "<Figure size 432x288 with 1 Axes>"
      ]
     },
     "metadata": {
      "needs_background": "light"
     },
     "output_type": "display_data"
    },
    {
     "data": {
      "application/javascript": [
       "\n",
       "            setTimeout(function() {\n",
       "                var nbb_cell_id = 97;\n",
       "                var nbb_unformatted_code = \"line_pts = [y_test_exp.min(), y_test_exp.max()]\\nplt.scatter(y_test_exp, y_pred_exp)\\nplt.plot(line_pts, line_pts, c=\\\"red\\\", ls=\\\"--\\\", alpha=0.5)\\nplt.xlabel(\\\"Actual\\\")\\nplt.ylabel(\\\"Fit\\\")\\nplt.show()\";\n",
       "                var nbb_formatted_code = \"line_pts = [y_test_exp.min(), y_test_exp.max()]\\nplt.scatter(y_test_exp, y_pred_exp)\\nplt.plot(line_pts, line_pts, c=\\\"red\\\", ls=\\\"--\\\", alpha=0.5)\\nplt.xlabel(\\\"Actual\\\")\\nplt.ylabel(\\\"Fit\\\")\\nplt.show()\";\n",
       "                var nbb_cells = Jupyter.notebook.get_cells();\n",
       "                for (var i = 0; i < nbb_cells.length; ++i) {\n",
       "                    if (nbb_cells[i].input_prompt_number == nbb_cell_id) {\n",
       "                        if (nbb_cells[i].get_text() == nbb_unformatted_code) {\n",
       "                             nbb_cells[i].set_text(nbb_formatted_code);\n",
       "                        }\n",
       "                        break;\n",
       "                    }\n",
       "                }\n",
       "            }, 500);\n",
       "            "
      ],
      "text/plain": [
       "<IPython.core.display.Javascript object>"
      ]
     },
     "metadata": {},
     "output_type": "display_data"
    }
   ],
   "source": [
    "line_pts = [y_test_exp.min(), y_test_exp.max()]\n",
    "plt.scatter(y_test_exp, y_pred_exp)\n",
    "plt.plot(line_pts, line_pts, c=\"red\", ls=\"--\", alpha=0.5)\n",
    "plt.xlabel(\"Actual\")\n",
    "plt.ylabel(\"Fit\")\n",
    "plt.show()"
   ]
  },
  {
   "cell_type": "markdown",
   "metadata": {},
   "source": [
    "## Lasso Model"
   ]
  },
  {
   "cell_type": "markdown",
   "metadata": {},
   "source": [
    "This model uses L1 regularization.\n",
    "* The parameter 'alpha' is used to determine how heavly the coefficients in the regression are penalized\n",
    "* An iterative approach is used to help home in on the what order of \"alpha\" to use.\n",
    "* Linear regression models are more transparent, and easier to interpret."
   ]
  },
  {
   "cell_type": "code",
   "execution_count": 62,
   "metadata": {},
   "outputs": [
    {
     "data": {
      "application/javascript": [
       "\n",
       "            setTimeout(function() {\n",
       "                var nbb_cell_id = 62;\n",
       "                var nbb_unformatted_code = \"preprocessing.fit(X_train)\\n\\nX_train_trans = preprocessing.transform(X_train)\\nX_test_trans = preprocessing.transform(X_test)\";\n",
       "                var nbb_formatted_code = \"preprocessing.fit(X_train)\\n\\nX_train_trans = preprocessing.transform(X_train)\\nX_test_trans = preprocessing.transform(X_test)\";\n",
       "                var nbb_cells = Jupyter.notebook.get_cells();\n",
       "                for (var i = 0; i < nbb_cells.length; ++i) {\n",
       "                    if (nbb_cells[i].input_prompt_number == nbb_cell_id) {\n",
       "                        if (nbb_cells[i].get_text() == nbb_unformatted_code) {\n",
       "                             nbb_cells[i].set_text(nbb_formatted_code);\n",
       "                        }\n",
       "                        break;\n",
       "                    }\n",
       "                }\n",
       "            }, 500);\n",
       "            "
      ],
      "text/plain": [
       "<IPython.core.display.Javascript object>"
      ]
     },
     "metadata": {},
     "output_type": "display_data"
    }
   ],
   "source": [
    "preprocessing.fit(X_train)\n",
    "\n",
    "X_train_trans = preprocessing.transform(X_train)\n",
    "X_test_trans = preprocessing.transform(X_test)"
   ]
  },
  {
   "cell_type": "code",
   "execution_count": 58,
   "metadata": {
    "scrolled": false
   },
   "outputs": [
    {
     "name": "stdout",
     "output_type": "stream",
     "text": [
      "Fitting 5 folds for each of 4 candidates, totalling 20 fits\n"
     ]
    },
    {
     "name": "stderr",
     "output_type": "stream",
     "text": [
      "[Parallel(n_jobs=-1)]: Using backend LokyBackend with 4 concurrent workers.\n",
      "[Parallel(n_jobs=-1)]: Done  20 out of  20 | elapsed:   17.3s finished\n"
     ]
    },
    {
     "name": "stdout",
     "output_type": "stream",
     "text": [
      "selected alpha: 0.0001\n"
     ]
    },
    {
     "data": {
      "text/plain": [
       "array([-0.02686403,  0.10345174,  0.18133577, -0.03045825, -0.05105934,\n",
       "        0.06554915, -0.0520268 , -0.13737539, -0.31028716,  0.33487096,\n",
       "        0.12390163,  0.10204536,  0.00420106, -0.03114285,  0.14073579,\n",
       "       -0.17857225, -0.00759396, -0.1516526 ,  0.04898697, -0.00103323,\n",
       "       -0.09583839,  0.0432782 ,  0.07352229,  0.02190428, -0.10372673,\n",
       "        0.03373428, -0.02062586,  0.00792548,  0.07714366, -0.0989931 ,\n",
       "       -0.08920134, -0.05076615, -0.08544401, -0.10317242,  0.02113932,\n",
       "       -0.        ,  0.16218228,  0.05426461, -0.03210719,  0.21610344,\n",
       "       -0.07577328, -0.03505302, -0.03749071,  0.06907777,  0.        ,\n",
       "        0.08947503, -0.01178773,  0.19590711,  0.        ,  0.        ,\n",
       "        0.        , -0.20047898,  0.04760842,  0.14315417, -0.02393149,\n",
       "        0.29147562,  0.        , -0.07132512,  0.1694375 , -0.03092075,\n",
       "       -0.00373255,  0.2881544 , -0.0597159 , -0.        ,  0.        ,\n",
       "       -0.07675882, -0.        ,  0.04696652, -0.08905985,  0.08899717,\n",
       "        0.11715099,  0.07073428,  0.14747697, -0.12119794,  0.07003605,\n",
       "       -0.03094558,  0.2810615 ,  0.05043124,  0.12895068,  0.        ,\n",
       "        0.23354065, -0.        ,  0.        , -0.0693418 ,  0.01084147,\n",
       "        0.15867273, -0.02216322,  0.        , -0.01275729, -0.03220398,\n",
       "        0.22719678, -0.        ,  0.06725033,  0.07888247,  0.        ,\n",
       "        0.05307312, -0.10243354,  0.        ,  0.        ,  0.01668191,\n",
       "       -0.        ,  0.18814934,  0.00815675,  0.09285516,  0.02335899,\n",
       "        0.15195497,  0.08813307,  0.09784769,  0.11486498,  0.74568094,\n",
       "        0.17399565,  0.        , -0.        , -0.0601307 , -0.00364705,\n",
       "        0.02106644,  0.26214893,  0.11589579,  0.07146788,  0.12855416,\n",
       "        0.24464255,  0.34208669,  0.15616158,  0.17954345,  0.        ,\n",
       "        0.1337539 ,  0.16839836,  0.16506211])"
      ]
     },
     "execution_count": 58,
     "metadata": {},
     "output_type": "execute_result"
    },
    {
     "data": {
      "application/javascript": [
       "\n",
       "            setTimeout(function() {\n",
       "                var nbb_cell_id = 58;\n",
       "                var nbb_unformatted_code = \"grid = {\\\"alpha\\\": [0.000001, 0.00001, 0.0001, 0.001]}\\n\\nlasso_cv = GridSearchCV(Lasso(), grid, verbose=1, cv=5, n_jobs=-1)\\nlasso_cv.fit(X_train_trans, y_train)\\n\\n# The best fit is in the best_estimator_ attribute\\nprint(f\\\"selected alpha: {lasso_cv.best_estimator_.alpha}\\\")\\nlasso_cv.best_estimator_.coef_\";\n",
       "                var nbb_formatted_code = \"grid = {\\\"alpha\\\": [0.000001, 0.00001, 0.0001, 0.001]}\\n\\nlasso_cv = GridSearchCV(Lasso(), grid, verbose=1, cv=5, n_jobs=-1)\\nlasso_cv.fit(X_train_trans, y_train)\\n\\n# The best fit is in the best_estimator_ attribute\\nprint(f\\\"selected alpha: {lasso_cv.best_estimator_.alpha}\\\")\\nlasso_cv.best_estimator_.coef_\";\n",
       "                var nbb_cells = Jupyter.notebook.get_cells();\n",
       "                for (var i = 0; i < nbb_cells.length; ++i) {\n",
       "                    if (nbb_cells[i].input_prompt_number == nbb_cell_id) {\n",
       "                        if (nbb_cells[i].get_text() == nbb_unformatted_code) {\n",
       "                             nbb_cells[i].set_text(nbb_formatted_code);\n",
       "                        }\n",
       "                        break;\n",
       "                    }\n",
       "                }\n",
       "            }, 500);\n",
       "            "
      ],
      "text/plain": [
       "<IPython.core.display.Javascript object>"
      ]
     },
     "metadata": {},
     "output_type": "display_data"
    }
   ],
   "source": [
    "grid = {\"alpha\": [0.000001, 0.00001, 0.0001, 0.001]}\n",
    "\n",
    "lasso_cv = GridSearchCV(Lasso(), grid, verbose=1, cv=5, n_jobs=-1)\n",
    "lasso_cv.fit(X_train_trans, y_train)\n",
    "\n",
    "# The best fit is in the best_estimator_ attribute\n",
    "print(f\"selected alpha: {lasso_cv.best_estimator_.alpha}\")\n",
    "lasso_cv.best_estimator_.coef_"
   ]
  },
  {
   "cell_type": "code",
   "execution_count": 59,
   "metadata": {},
   "outputs": [
    {
     "name": "stdout",
     "output_type": "stream",
     "text": [
      "Train Score: 0.5004424762300013\n",
      "Test Score: 0.4363681191247105\n"
     ]
    },
    {
     "data": {
      "application/javascript": [
       "\n",
       "            setTimeout(function() {\n",
       "                var nbb_cell_id = 59;\n",
       "                var nbb_unformatted_code = \"print(f\\\"Train Score: {lasso_cv.score(X_train_trans, y_train)}\\\")\\nprint(f\\\"Test Score: {lasso_cv.score(X_test_trans, y_test)}\\\")\";\n",
       "                var nbb_formatted_code = \"print(f\\\"Train Score: {lasso_cv.score(X_train_trans, y_train)}\\\")\\nprint(f\\\"Test Score: {lasso_cv.score(X_test_trans, y_test)}\\\")\";\n",
       "                var nbb_cells = Jupyter.notebook.get_cells();\n",
       "                for (var i = 0; i < nbb_cells.length; ++i) {\n",
       "                    if (nbb_cells[i].input_prompt_number == nbb_cell_id) {\n",
       "                        if (nbb_cells[i].get_text() == nbb_unformatted_code) {\n",
       "                             nbb_cells[i].set_text(nbb_formatted_code);\n",
       "                        }\n",
       "                        break;\n",
       "                    }\n",
       "                }\n",
       "            }, 500);\n",
       "            "
      ],
      "text/plain": [
       "<IPython.core.display.Javascript object>"
      ]
     },
     "metadata": {},
     "output_type": "display_data"
    }
   ],
   "source": [
    "print(f\"Train Score: {lasso_cv.score(X_train_trans, y_train)}\")\n",
    "print(f\"Test Score: {lasso_cv.score(X_test_trans, y_test)}\")"
   ]
  },
  {
   "cell_type": "code",
   "execution_count": 60,
   "metadata": {},
   "outputs": [
    {
     "name": "stdout",
     "output_type": "stream",
     "text": [
      "0.49815808772055337\n",
      "0.2307255301826962\n"
     ]
    },
    {
     "data": {
      "application/javascript": [
       "\n",
       "            setTimeout(function() {\n",
       "                var nbb_cell_id = 60;\n",
       "                var nbb_unformatted_code = \"y_pred = lasso_cv.predict(X_test_trans)\\ny_pred_exp = np.exp(y_pred)\\ny_test_exp = np.exp(y_test)\\nMAE = np.mean(abs(y_test_exp - y_pred_exp))\\nMAPE = np.mean(abs((y_test_exp - y_pred_exp) / y_test_exp))\\nprint(MAE)\\nprint(MAPE)\";\n",
       "                var nbb_formatted_code = \"y_pred = lasso_cv.predict(X_test_trans)\\ny_pred_exp = np.exp(y_pred)\\ny_test_exp = np.exp(y_test)\\nMAE = np.mean(abs(y_test_exp - y_pred_exp))\\nMAPE = np.mean(abs((y_test_exp - y_pred_exp) / y_test_exp))\\nprint(MAE)\\nprint(MAPE)\";\n",
       "                var nbb_cells = Jupyter.notebook.get_cells();\n",
       "                for (var i = 0; i < nbb_cells.length; ++i) {\n",
       "                    if (nbb_cells[i].input_prompt_number == nbb_cell_id) {\n",
       "                        if (nbb_cells[i].get_text() == nbb_unformatted_code) {\n",
       "                             nbb_cells[i].set_text(nbb_formatted_code);\n",
       "                        }\n",
       "                        break;\n",
       "                    }\n",
       "                }\n",
       "            }, 500);\n",
       "            "
      ],
      "text/plain": [
       "<IPython.core.display.Javascript object>"
      ]
     },
     "metadata": {},
     "output_type": "display_data"
    }
   ],
   "source": [
    "y_pred = lasso_cv.predict(X_test_trans)\n",
    "y_pred_exp = np.exp(y_pred)\n",
    "y_test_exp = np.exp(y_test)\n",
    "MAE = np.mean(abs(y_test_exp - y_pred_exp))\n",
    "MAPE = np.mean(abs((y_test_exp - y_pred_exp) / y_test_exp))\n",
    "print(MAE)\n",
    "print(MAPE)"
   ]
  },
  {
   "cell_type": "markdown",
   "metadata": {},
   "source": [
    "This model is not overfitting as much as the XGBoost Reg model. "
   ]
  },
  {
   "cell_type": "code",
   "execution_count": 61,
   "metadata": {
    "scrolled": true
   },
   "outputs": [
    {
     "data": {
      "image/png": "[encoded data removed]",
      "text/plain": [
       "<Figure size 432x288 with 1 Axes>"
      ]
     },
     "metadata": {
      "needs_background": "light"
     },
     "output_type": "display_data"
    },
    {
     "data": {
      "application/javascript": [
       "\n",
       "            setTimeout(function() {\n",
       "                var nbb_cell_id = 61;\n",
       "                var nbb_unformatted_code = \"line_pts = [y_test_exp.min(), y_test_exp.max()]\\nplt.scatter(y_test_exp, y_pred_exp)\\nplt.plot(line_pts, line_pts, c=\\\"red\\\", ls=\\\"--\\\", alpha=0.5)\\nplt.xlabel(\\\"Actual\\\")\\nplt.ylabel(\\\"Fit\\\")\\nplt.show()\";\n",
       "                var nbb_formatted_code = \"line_pts = [y_test_exp.min(), y_test_exp.max()]\\nplt.scatter(y_test_exp, y_pred_exp)\\nplt.plot(line_pts, line_pts, c=\\\"red\\\", ls=\\\"--\\\", alpha=0.5)\\nplt.xlabel(\\\"Actual\\\")\\nplt.ylabel(\\\"Fit\\\")\\nplt.show()\";\n",
       "                var nbb_cells = Jupyter.notebook.get_cells();\n",
       "                for (var i = 0; i < nbb_cells.length; ++i) {\n",
       "                    if (nbb_cells[i].input_prompt_number == nbb_cell_id) {\n",
       "                        if (nbb_cells[i].get_text() == nbb_unformatted_code) {\n",
       "                             nbb_cells[i].set_text(nbb_formatted_code);\n",
       "                        }\n",
       "                        break;\n",
       "                    }\n",
       "                }\n",
       "            }, 500);\n",
       "            "
      ],
      "text/plain": [
       "<IPython.core.display.Javascript object>"
      ]
     },
     "metadata": {},
     "output_type": "display_data"
    }
   ],
   "source": [
    "line_pts = [y_test_exp.min(), y_test_exp.max()]\n",
    "plt.scatter(y_test_exp, y_pred_exp)\n",
    "plt.plot(line_pts, line_pts, c=\"red\", ls=\"--\", alpha=0.5)\n",
    "plt.xlabel(\"Actual\")\n",
    "plt.ylabel(\"Fit\")\n",
    "plt.show()"
   ]
  },
  {
   "cell_type": "markdown",
   "metadata": {},
   "source": [
    "## Elastic Net Model"
   ]
  },
  {
   "cell_type": "markdown",
   "metadata": {},
   "source": [
    "This model uses Linear Regression with a combination of L1 and L2 regularization. \n",
    "* L1 regularization uses absolute value to minimize coefficients\n",
    "* L2 regularization uses squaring to minimize coefficients. This make it more sensative to outliers.\n",
    "* A grid search of the parameter shows that the model performs best with a 0.1 L1 ratio and an alpha value of 0.001"
   ]
  },
  {
   "cell_type": "code",
   "execution_count": 63,
   "metadata": {},
   "outputs": [
    {
     "name": "stdout",
     "output_type": "stream",
     "text": [
      "Fitting 5 folds for each of 16 candidates, totalling 80 fits\n"
     ]
    },
    {
     "name": "stderr",
     "output_type": "stream",
     "text": [
      "[Parallel(n_jobs=1)]: Using backend SequentialBackend with 1 concurrent workers.\n",
      "[Parallel(n_jobs=1)]: Done  80 out of  80 | elapsed:   19.4s finished\n"
     ]
    },
    {
     "name": "stdout",
     "output_type": "stream",
     "text": [
      "selected alpha: 0.001\n",
      "selected l1_ratio: 0.1\n"
     ]
    },
    {
     "data": {
      "text/plain": [
       "array([-2.96994921e-02,  1.03548078e-01,  1.83114169e-01, -2.87166416e-02,\n",
       "       -3.23874638e-02,  5.93510486e-02, -5.10877976e-02, -1.34153575e-01,\n",
       "       -3.06208801e-01,  3.16889253e-01,  1.19431671e-01,  1.01074259e-01,\n",
       "        8.10476570e-04, -3.02081044e-02,  1.37361890e-01, -1.56760337e-01,\n",
       "       -7.38942699e-03, -1.51759953e-01,  5.32418189e-02, -6.04453256e-04,\n",
       "       -9.66378530e-02,  3.98367472e-02,  7.22398947e-02,  2.29054082e-02,\n",
       "       -1.02098415e-01,  2.87512386e-02, -2.54741811e-02,  6.63728526e-03,\n",
       "        7.36852760e-02, -1.02198308e-01, -8.71470701e-02, -5.47338726e-02,\n",
       "       -8.66914994e-02, -8.20800280e-02,  1.01670077e-02, -7.36934598e-03,\n",
       "        1.55263237e-01,  4.08699298e-02, -3.21610629e-02,  1.81585788e-01,\n",
       "       -7.82103194e-02, -4.32587732e-02, -4.19887609e-02,  4.15593430e-02,\n",
       "       -0.00000000e+00,  7.53737491e-02, -2.28366485e-02,  1.86497878e-01,\n",
       "       -0.00000000e+00,  0.00000000e+00,  0.00000000e+00, -1.74330165e-01,\n",
       "        2.77055229e-02,  1.05008294e-01, -2.18083297e-02,  2.58387407e-01,\n",
       "        0.00000000e+00, -6.51235459e-02,  1.47327258e-01, -3.31698479e-02,\n",
       "       -1.12936555e-02,  2.84456466e-01, -5.96647902e-02, -0.00000000e+00,\n",
       "        0.00000000e+00, -7.54936988e-02, -3.38466200e-03,  3.60260000e-02,\n",
       "       -7.33938130e-02,  8.13476659e-02,  8.04980358e-02,  6.03104881e-02,\n",
       "        1.35616407e-01, -1.13707947e-01,  6.31955141e-02, -1.25747998e-02,\n",
       "        2.05839807e-01,  3.23448988e-02,  9.53608040e-02, -4.32706947e-03,\n",
       "        2.15720522e-01, -6.55018488e-04,  0.00000000e+00, -6.43118718e-02,\n",
       "        6.56563329e-03,  1.45875834e-01, -2.21805831e-02,  0.00000000e+00,\n",
       "       -1.49295305e-02, -3.52311867e-02,  1.80943973e-01, -0.00000000e+00,\n",
       "        6.00586505e-02,  6.91285178e-02, -0.00000000e+00,  4.27841187e-02,\n",
       "       -9.25371949e-02,  0.00000000e+00,  0.00000000e+00,  8.23355565e-03,\n",
       "       -0.00000000e+00,  1.39694825e-01,  0.00000000e+00,  7.36985425e-02,\n",
       "        1.76459411e-02,  1.27572255e-01,  6.79445525e-02,  8.37948439e-02,\n",
       "        9.36914311e-02,  6.69192105e-01,  1.42398826e-01,  0.00000000e+00,\n",
       "       -0.00000000e+00, -5.23018196e-02, -4.42309206e-03,  1.12680332e-02,\n",
       "        2.14370755e-01,  9.72801611e-02,  5.73673457e-02,  1.12796226e-01,\n",
       "        2.26410239e-01,  2.87507522e-01,  1.41643697e-01,  1.61483459e-01,\n",
       "        0.00000000e+00,  1.13042798e-01,  1.48539484e-01,  1.47139079e-01])"
      ]
     },
     "execution_count": 63,
     "metadata": {},
     "output_type": "execute_result"
    },
    {
     "data": {
      "application/javascript": [
       "\n",
       "            setTimeout(function() {\n",
       "                var nbb_cell_id = 63;\n",
       "                var nbb_unformatted_code = \"grid = {\\\"alpha\\\": [0.0001, 0.001, 0.01, 0.1], \\\"l1_ratio\\\": [0.1, 0.5, 0.75, 1]}\\nelasticnet_cv = GridSearchCV(ElasticNet(), grid, verbose=1)\\nelasticnet_cv.fit(X_train_trans, y_train)\\n\\nprint(f\\\"selected alpha: {elasticnet_cv.best_estimator_.alpha}\\\")\\nprint(f\\\"selected l1_ratio: {elasticnet_cv.best_estimator_.l1_ratio}\\\")\\nelasticnet_cv.best_estimator_.coef_\";\n",
       "                var nbb_formatted_code = \"grid = {\\\"alpha\\\": [0.0001, 0.001, 0.01, 0.1], \\\"l1_ratio\\\": [0.1, 0.5, 0.75, 1]}\\nelasticnet_cv = GridSearchCV(ElasticNet(), grid, verbose=1)\\nelasticnet_cv.fit(X_train_trans, y_train)\\n\\nprint(f\\\"selected alpha: {elasticnet_cv.best_estimator_.alpha}\\\")\\nprint(f\\\"selected l1_ratio: {elasticnet_cv.best_estimator_.l1_ratio}\\\")\\nelasticnet_cv.best_estimator_.coef_\";\n",
       "                var nbb_cells = Jupyter.notebook.get_cells();\n",
       "                for (var i = 0; i < nbb_cells.length; ++i) {\n",
       "                    if (nbb_cells[i].input_prompt_number == nbb_cell_id) {\n",
       "                        if (nbb_cells[i].get_text() == nbb_unformatted_code) {\n",
       "                             nbb_cells[i].set_text(nbb_formatted_code);\n",
       "                        }\n",
       "                        break;\n",
       "                    }\n",
       "                }\n",
       "            }, 500);\n",
       "            "
      ],
      "text/plain": [
       "<IPython.core.display.Javascript object>"
      ]
     },
     "metadata": {},
     "output_type": "display_data"
    }
   ],
   "source": [
    "grid = {\"alpha\": [0.0001, 0.001, 0.01, 0.1], \"l1_ratio\": [0.1, 0.5, 0.75, 1]}\n",
    "elasticnet_cv = GridSearchCV(ElasticNet(), grid, verbose=1)\n",
    "elasticnet_cv.fit(X_train_trans, y_train)\n",
    "\n",
    "print(f\"selected alpha: {elasticnet_cv.best_estimator_.alpha}\")\n",
    "print(f\"selected l1_ratio: {elasticnet_cv.best_estimator_.l1_ratio}\")\n",
    "elasticnet_cv.best_estimator_.coef_"
   ]
  },
  {
   "cell_type": "code",
   "execution_count": 64,
   "metadata": {},
   "outputs": [
    {
     "name": "stdout",
     "output_type": "stream",
     "text": [
      "Train Score: 0.4983736121658512\n",
      "Test Score: 0.4387337501670767\n"
     ]
    },
    {
     "data": {
      "application/javascript": [
       "\n",
       "            setTimeout(function() {\n",
       "                var nbb_cell_id = 64;\n",
       "                var nbb_unformatted_code = \"print(f\\\"Train Score: {elasticnet_cv.score(X_train_trans, y_train)}\\\")\\nprint(f\\\"Test Score: {elasticnet_cv.score(X_test_trans, y_test)}\\\")\";\n",
       "                var nbb_formatted_code = \"print(f\\\"Train Score: {elasticnet_cv.score(X_train_trans, y_train)}\\\")\\nprint(f\\\"Test Score: {elasticnet_cv.score(X_test_trans, y_test)}\\\")\";\n",
       "                var nbb_cells = Jupyter.notebook.get_cells();\n",
       "                for (var i = 0; i < nbb_cells.length; ++i) {\n",
       "                    if (nbb_cells[i].input_prompt_number == nbb_cell_id) {\n",
       "                        if (nbb_cells[i].get_text() == nbb_unformatted_code) {\n",
       "                             nbb_cells[i].set_text(nbb_formatted_code);\n",
       "                        }\n",
       "                        break;\n",
       "                    }\n",
       "                }\n",
       "            }, 500);\n",
       "            "
      ],
      "text/plain": [
       "<IPython.core.display.Javascript object>"
      ]
     },
     "metadata": {},
     "output_type": "display_data"
    }
   ],
   "source": [
    "print(f\"Train Score: {elasticnet_cv.score(X_train_trans, y_train)}\")\n",
    "print(f\"Test Score: {elasticnet_cv.score(X_test_trans, y_test)}\")\n",
    "\n"
   ]
  },
  {
   "cell_type": "code",
   "execution_count": 65,
   "metadata": {},
   "outputs": [
    {
     "name": "stdout",
     "output_type": "stream",
     "text": [
      "0.49783914648169936\n",
      "0.2294457609658452\n"
     ]
    },
    {
     "data": {
      "application/javascript": [
       "\n",
       "            setTimeout(function() {\n",
       "                var nbb_cell_id = 65;\n",
       "                var nbb_unformatted_code = \"y_pred = elasticnet_cv.predict(X_test_trans)\\ny_pred_exp = np.exp(y_pred)\\ny_test_exp = np.exp(y_test)\\nMAE = np.mean(abs(y_test_exp - y_pred_exp))\\nMAPE = np.mean(abs((y_test_exp - y_pred_exp) / y_test_exp))\\nprint(MAE)\\nprint(MAPE)\";\n",
       "                var nbb_formatted_code = \"y_pred = elasticnet_cv.predict(X_test_trans)\\ny_pred_exp = np.exp(y_pred)\\ny_test_exp = np.exp(y_test)\\nMAE = np.mean(abs(y_test_exp - y_pred_exp))\\nMAPE = np.mean(abs((y_test_exp - y_pred_exp) / y_test_exp))\\nprint(MAE)\\nprint(MAPE)\";\n",
       "                var nbb_cells = Jupyter.notebook.get_cells();\n",
       "                for (var i = 0; i < nbb_cells.length; ++i) {\n",
       "                    if (nbb_cells[i].input_prompt_number == nbb_cell_id) {\n",
       "                        if (nbb_cells[i].get_text() == nbb_unformatted_code) {\n",
       "                             nbb_cells[i].set_text(nbb_formatted_code);\n",
       "                        }\n",
       "                        break;\n",
       "                    }\n",
       "                }\n",
       "            }, 500);\n",
       "            "
      ],
      "text/plain": [
       "<IPython.core.display.Javascript object>"
      ]
     },
     "metadata": {},
     "output_type": "display_data"
    }
   ],
   "source": [
    "y_pred = elasticnet_cv.predict(X_test_trans)\n",
    "y_pred_exp = np.exp(y_pred)\n",
    "y_test_exp = np.exp(y_test)\n",
    "MAE = np.mean(abs(y_test_exp - y_pred_exp))\n",
    "MAPE = np.mean(abs((y_test_exp - y_pred_exp) / y_test_exp))\n",
    "print(MAE)\n",
    "print(MAPE)"
   ]
  },
  {
   "cell_type": "code",
   "execution_count": 66,
   "metadata": {},
   "outputs": [
    {
     "data": {
      "image/png": "[encoded data removed]",
      "text/plain": [
       "<Figure size 432x288 with 1 Axes>"
      ]
     },
     "metadata": {
      "needs_background": "light"
     },
     "output_type": "display_data"
    },
    {
     "data": {
      "application/javascript": [
       "\n",
       "            setTimeout(function() {\n",
       "                var nbb_cell_id = 66;\n",
       "                var nbb_unformatted_code = \"line_pts = [y_test_exp.min(), y_test_exp.max()]\\nplt.scatter(y_test_exp, y_pred_exp)\\nplt.plot(line_pts, line_pts, c=\\\"red\\\", ls=\\\"--\\\", alpha=0.5)\\nplt.xlabel(\\\"Actual\\\")\\nplt.ylabel(\\\"Fit\\\")\\nplt.show()\";\n",
       "                var nbb_formatted_code = \"line_pts = [y_test_exp.min(), y_test_exp.max()]\\nplt.scatter(y_test_exp, y_pred_exp)\\nplt.plot(line_pts, line_pts, c=\\\"red\\\", ls=\\\"--\\\", alpha=0.5)\\nplt.xlabel(\\\"Actual\\\")\\nplt.ylabel(\\\"Fit\\\")\\nplt.show()\";\n",
       "                var nbb_cells = Jupyter.notebook.get_cells();\n",
       "                for (var i = 0; i < nbb_cells.length; ++i) {\n",
       "                    if (nbb_cells[i].input_prompt_number == nbb_cell_id) {\n",
       "                        if (nbb_cells[i].get_text() == nbb_unformatted_code) {\n",
       "                             nbb_cells[i].set_text(nbb_formatted_code);\n",
       "                        }\n",
       "                        break;\n",
       "                    }\n",
       "                }\n",
       "            }, 500);\n",
       "            "
      ],
      "text/plain": [
       "<IPython.core.display.Javascript object>"
      ]
     },
     "metadata": {},
     "output_type": "display_data"
    }
   ],
   "source": [
    "line_pts = [y_test_exp.min(), y_test_exp.max()]\n",
    "plt.scatter(y_test_exp, y_pred_exp)\n",
    "plt.plot(line_pts, line_pts, c=\"red\", ls=\"--\", alpha=0.5)\n",
    "plt.xlabel(\"Actual\")\n",
    "plt.ylabel(\"Fit\")\n",
    "plt.show()"
   ]
  },
  {
   "cell_type": "markdown",
   "metadata": {},
   "source": [
    "## KNN model"
   ]
  },
  {
   "cell_type": "markdown",
   "metadata": {},
   "source": [
    "K nearest neighbors regression can tackle a lot of same data as a linear regression model, but there need not be a linear relationship between the features and target."
   ]
  },
  {
   "cell_type": "code",
   "execution_count": 67,
   "metadata": {},
   "outputs": [
    {
     "data": {
      "application/javascript": [
       "\n",
       "            setTimeout(function() {\n",
       "                var nbb_cell_id = 67;\n",
       "                var nbb_unformatted_code = \"pipeline = Pipeline([(\\\"preprocessing\\\", preprocessing), (\\\"knn\\\", KNeighborsRegressor())])\";\n",
       "                var nbb_formatted_code = \"pipeline = Pipeline([(\\\"preprocessing\\\", preprocessing), (\\\"knn\\\", KNeighborsRegressor())])\";\n",
       "                var nbb_cells = Jupyter.notebook.get_cells();\n",
       "                for (var i = 0; i < nbb_cells.length; ++i) {\n",
       "                    if (nbb_cells[i].input_prompt_number == nbb_cell_id) {\n",
       "                        if (nbb_cells[i].get_text() == nbb_unformatted_code) {\n",
       "                             nbb_cells[i].set_text(nbb_formatted_code);\n",
       "                        }\n",
       "                        break;\n",
       "                    }\n",
       "                }\n",
       "            }, 500);\n",
       "            "
      ],
      "text/plain": [
       "<IPython.core.display.Javascript object>"
      ]
     },
     "metadata": {},
     "output_type": "display_data"
    }
   ],
   "source": [
    "pipeline = Pipeline([(\"preprocessing\", preprocessing), (\"knn\", KNeighborsRegressor())])"
   ]
  },
  {
   "cell_type": "code",
   "execution_count": 68,
   "metadata": {},
   "outputs": [
    {
     "data": {
      "application/javascript": [
       "\n",
       "            setTimeout(function() {\n",
       "                var nbb_cell_id = 68;\n",
       "                var nbb_unformatted_code = \"ks = np.arange(1, 100, 2)\\nrmses = []\\n\\nfor k in ks:\\n    pipeline.named_steps[\\\"knn\\\"].n_neighbors = k\\n    neg_rmses = cross_val_score(\\n        pipeline, X_train, y_train, scoring=\\\"neg_root_mean_squared_error\\\"\\n    )\\n    avg_rmse = np.mean(-neg_rmses)\\n    rmses.append(avg_rmse)\";\n",
       "                var nbb_formatted_code = \"ks = np.arange(1, 100, 2)\\nrmses = []\\n\\nfor k in ks:\\n    pipeline.named_steps[\\\"knn\\\"].n_neighbors = k\\n    neg_rmses = cross_val_score(\\n        pipeline, X_train, y_train, scoring=\\\"neg_root_mean_squared_error\\\"\\n    )\\n    avg_rmse = np.mean(-neg_rmses)\\n    rmses.append(avg_rmse)\";\n",
       "                var nbb_cells = Jupyter.notebook.get_cells();\n",
       "                for (var i = 0; i < nbb_cells.length; ++i) {\n",
       "                    if (nbb_cells[i].input_prompt_number == nbb_cell_id) {\n",
       "                        if (nbb_cells[i].get_text() == nbb_unformatted_code) {\n",
       "                             nbb_cells[i].set_text(nbb_formatted_code);\n",
       "                        }\n",
       "                        break;\n",
       "                    }\n",
       "                }\n",
       "            }, 500);\n",
       "            "
      ],
      "text/plain": [
       "<IPython.core.display.Javascript object>"
      ]
     },
     "metadata": {},
     "output_type": "display_data"
    }
   ],
   "source": [
    "ks = np.arange(1, 100, 2)\n",
    "rmses = []\n",
    "\n",
    "for k in ks:\n",
    "    pipeline.named_steps[\"knn\"].n_neighbors = k\n",
    "    neg_rmses = cross_val_score(\n",
    "        pipeline, X_train, y_train, scoring=\"neg_root_mean_squared_error\"\n",
    "    )\n",
    "    avg_rmse = np.mean(-neg_rmses)\n",
    "    rmses.append(avg_rmse)"
   ]
  },
  {
   "cell_type": "code",
   "execution_count": 69,
   "metadata": {},
   "outputs": [
    {
     "data": {
      "image/png": "[encoded data removed]",
      "text/plain": [
       "<Figure size 432x288 with 1 Axes>"
      ]
     },
     "metadata": {
      "needs_background": "light"
     },
     "output_type": "display_data"
    },
    {
     "data": {
      "application/javascript": [
       "\n",
       "            setTimeout(function() {\n",
       "                var nbb_cell_id = 69;\n",
       "                var nbb_unformatted_code = \"plt.plot(ks, rmses)\\nplt.xlabel(\\\"k\\\")\\nplt.ylabel(\\\"Avg RMSE\\\")\\nplt.show()\";\n",
       "                var nbb_formatted_code = \"plt.plot(ks, rmses)\\nplt.xlabel(\\\"k\\\")\\nplt.ylabel(\\\"Avg RMSE\\\")\\nplt.show()\";\n",
       "                var nbb_cells = Jupyter.notebook.get_cells();\n",
       "                for (var i = 0; i < nbb_cells.length; ++i) {\n",
       "                    if (nbb_cells[i].input_prompt_number == nbb_cell_id) {\n",
       "                        if (nbb_cells[i].get_text() == nbb_unformatted_code) {\n",
       "                             nbb_cells[i].set_text(nbb_formatted_code);\n",
       "                        }\n",
       "                        break;\n",
       "                    }\n",
       "                }\n",
       "            }, 500);\n",
       "            "
      ],
      "text/plain": [
       "<IPython.core.display.Javascript object>"
      ]
     },
     "metadata": {},
     "output_type": "display_data"
    }
   ],
   "source": [
    "plt.plot(ks, rmses)\n",
    "plt.xlabel(\"k\")\n",
    "plt.ylabel(\"Avg RMSE\")\n",
    "plt.show()"
   ]
  },
  {
   "cell_type": "code",
   "execution_count": 70,
   "metadata": {},
   "outputs": [
    {
     "data": {
      "text/plain": [
       "{'knn__n_neighbors': 9}"
      ]
     },
     "execution_count": 70,
     "metadata": {},
     "output_type": "execute_result"
    },
    {
     "data": {
      "application/javascript": [
       "\n",
       "            setTimeout(function() {\n",
       "                var nbb_cell_id = 70;\n",
       "                var nbb_unformatted_code = \"grid = {\\\"knn__n_neighbors\\\": np.arange(1, 100, 4)}\\nmodel = GridSearchCV(pipeline, grid)\\nmodel.fit(X_train, y_train)\\n\\nmodel.best_params_\";\n",
       "                var nbb_formatted_code = \"grid = {\\\"knn__n_neighbors\\\": np.arange(1, 100, 4)}\\nmodel = GridSearchCV(pipeline, grid)\\nmodel.fit(X_train, y_train)\\n\\nmodel.best_params_\";\n",
       "                var nbb_cells = Jupyter.notebook.get_cells();\n",
       "                for (var i = 0; i < nbb_cells.length; ++i) {\n",
       "                    if (nbb_cells[i].input_prompt_number == nbb_cell_id) {\n",
       "                        if (nbb_cells[i].get_text() == nbb_unformatted_code) {\n",
       "                             nbb_cells[i].set_text(nbb_formatted_code);\n",
       "                        }\n",
       "                        break;\n",
       "                    }\n",
       "                }\n",
       "            }, 500);\n",
       "            "
      ],
      "text/plain": [
       "<IPython.core.display.Javascript object>"
      ]
     },
     "metadata": {},
     "output_type": "display_data"
    }
   ],
   "source": [
    "grid = {\"knn__n_neighbors\": np.arange(1, 100, 4)}\n",
    "model = GridSearchCV(pipeline, grid)\n",
    "model.fit(X_train, y_train)\n",
    "\n",
    "model.best_params_"
   ]
  },
  {
   "cell_type": "code",
   "execution_count": 71,
   "metadata": {},
   "outputs": [
    {
     "name": "stdout",
     "output_type": "stream",
     "text": [
      "0.6268449081496643\n",
      "0.47299384988708193\n"
     ]
    },
    {
     "data": {
      "application/javascript": [
       "\n",
       "            setTimeout(function() {\n",
       "                var nbb_cell_id = 71;\n",
       "                var nbb_unformatted_code = \"print(model.score(X_train, y_train))\\nprint(model.score(X_test, y_test))\";\n",
       "                var nbb_formatted_code = \"print(model.score(X_train, y_train))\\nprint(model.score(X_test, y_test))\";\n",
       "                var nbb_cells = Jupyter.notebook.get_cells();\n",
       "                for (var i = 0; i < nbb_cells.length; ++i) {\n",
       "                    if (nbb_cells[i].input_prompt_number == nbb_cell_id) {\n",
       "                        if (nbb_cells[i].get_text() == nbb_unformatted_code) {\n",
       "                             nbb_cells[i].set_text(nbb_formatted_code);\n",
       "                        }\n",
       "                        break;\n",
       "                    }\n",
       "                }\n",
       "            }, 500);\n",
       "            "
      ],
      "text/plain": [
       "<IPython.core.display.Javascript object>"
      ]
     },
     "metadata": {},
     "output_type": "display_data"
    }
   ],
   "source": [
    "print(model.score(X_train, y_train))\n",
    "print(model.score(X_test, y_test))\n"
   ]
  },
  {
   "cell_type": "code",
   "execution_count": 72,
   "metadata": {},
   "outputs": [
    {
     "name": "stdout",
     "output_type": "stream",
     "text": [
      "0.46583970748444586\n",
      "0.20682120243831636\n"
     ]
    },
    {
     "data": {
      "application/javascript": [
       "\n",
       "            setTimeout(function() {\n",
       "                var nbb_cell_id = 72;\n",
       "                var nbb_unformatted_code = \"y_pred = model.predict(X_test)\\ny_pred_exp = np.exp(y_pred)\\ny_test_exp = np.exp(y_test)\\nMAE = np.mean(abs(y_test_exp - y_pred_exp))\\nMAPE = np.mean(abs((y_test_exp - y_pred_exp) / y_test_exp))\\nprint(MAE)\\nprint(MAPE)\";\n",
       "                var nbb_formatted_code = \"y_pred = model.predict(X_test)\\ny_pred_exp = np.exp(y_pred)\\ny_test_exp = np.exp(y_test)\\nMAE = np.mean(abs(y_test_exp - y_pred_exp))\\nMAPE = np.mean(abs((y_test_exp - y_pred_exp) / y_test_exp))\\nprint(MAE)\\nprint(MAPE)\";\n",
       "                var nbb_cells = Jupyter.notebook.get_cells();\n",
       "                for (var i = 0; i < nbb_cells.length; ++i) {\n",
       "                    if (nbb_cells[i].input_prompt_number == nbb_cell_id) {\n",
       "                        if (nbb_cells[i].get_text() == nbb_unformatted_code) {\n",
       "                             nbb_cells[i].set_text(nbb_formatted_code);\n",
       "                        }\n",
       "                        break;\n",
       "                    }\n",
       "                }\n",
       "            }, 500);\n",
       "            "
      ],
      "text/plain": [
       "<IPython.core.display.Javascript object>"
      ]
     },
     "metadata": {},
     "output_type": "display_data"
    }
   ],
   "source": [
    "y_pred = model.predict(X_test)\n",
    "y_pred_exp = np.exp(y_pred)\n",
    "y_test_exp = np.exp(y_test)\n",
    "MAE = np.mean(abs(y_test_exp - y_pred_exp))\n",
    "MAPE = np.mean(abs((y_test_exp - y_pred_exp) / y_test_exp))\n",
    "print(MAE)\n",
    "print(MAPE)"
   ]
  },
  {
   "cell_type": "code",
   "execution_count": 73,
   "metadata": {},
   "outputs": [
    {
     "data": {
      "image/png": "[encoded data removed]",
      "text/plain": [
       "<Figure size 432x288 with 1 Axes>"
      ]
     },
     "metadata": {
      "needs_background": "light"
     },
     "output_type": "display_data"
    },
    {
     "data": {
      "application/javascript": [
       "\n",
       "            setTimeout(function() {\n",
       "                var nbb_cell_id = 73;\n",
       "                var nbb_unformatted_code = \"line_pts = [y_test_exp.min(), y_test_exp.max()]\\nplt.scatter(y_test_exp, y_pred_exp)\\nplt.plot(line_pts, line_pts, c=\\\"red\\\", ls=\\\"--\\\", alpha=0.5)\\nplt.xlabel(\\\"Actual\\\")\\nplt.ylabel(\\\"Fit\\\")\\nplt.show()\";\n",
       "                var nbb_formatted_code = \"line_pts = [y_test_exp.min(), y_test_exp.max()]\\nplt.scatter(y_test_exp, y_pred_exp)\\nplt.plot(line_pts, line_pts, c=\\\"red\\\", ls=\\\"--\\\", alpha=0.5)\\nplt.xlabel(\\\"Actual\\\")\\nplt.ylabel(\\\"Fit\\\")\\nplt.show()\";\n",
       "                var nbb_cells = Jupyter.notebook.get_cells();\n",
       "                for (var i = 0; i < nbb_cells.length; ++i) {\n",
       "                    if (nbb_cells[i].input_prompt_number == nbb_cell_id) {\n",
       "                        if (nbb_cells[i].get_text() == nbb_unformatted_code) {\n",
       "                             nbb_cells[i].set_text(nbb_formatted_code);\n",
       "                        }\n",
       "                        break;\n",
       "                    }\n",
       "                }\n",
       "            }, 500);\n",
       "            "
      ],
      "text/plain": [
       "<IPython.core.display.Javascript object>"
      ]
     },
     "metadata": {},
     "output_type": "display_data"
    }
   ],
   "source": [
    "line_pts = [y_test_exp.min(), y_test_exp.max()]\n",
    "plt.scatter(y_test_exp, y_pred_exp)\n",
    "plt.plot(line_pts, line_pts, c=\"red\", ls=\"--\", alpha=0.5)\n",
    "plt.xlabel(\"Actual\")\n",
    "plt.ylabel(\"Fit\")\n",
    "plt.show()"
   ]
  },
  {
   "cell_type": "markdown",
   "metadata": {},
   "source": [
    "#### Conclusion:\n",
    "\n",
    "These models all seemed to have a limited amount of performance. The lack of performance in these models comes from the data. There is a lack of neccessary correlation for linear regression models, and the outliers that hurt the performance of the linear regression help add performance in the categorical components in the models. Selecting a best model for this situation depends on what trade-offs you are ok with. XGBOOST appears to perform well at first, but it is the least explainable, is prone to overfitting if you the max depth gets too high, and the mean absolute percentage error is the worst in this model. The KNN model in my opinion gave the best perfomance, but it isn't as transparent, nor is it as easy to explain as the linear regression models. "
   ]
  }
 ],
 "metadata": {
  "kernelspec": {
   "display_name": "Python 3",
   "language": "python",
   "name": "python3"
  },
  "language_info": {
   "codemirror_mode": {
    "name": "ipython",
    "version": 3
   },
   "file_extension": ".py",
   "mimetype": "text/x-python",
   "name": "python",
   "nbconvert_exporter": "python",
   "pygments_lexer": "ipython3",
   "version": "3.8.3"
  }
 },
 "nbformat": 4,
 "nbformat_minor": 4
}
